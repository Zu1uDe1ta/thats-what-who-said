{
 "cells": [
  {
   "attachments": {},
   "cell_type": "markdown",
   "metadata": {},
   "source": [
    "# `01_preprocess.ipynb`"
   ]
  },
  {
   "attachments": {},
   "cell_type": "markdown",
   "metadata": {},
   "source": [
    "## 0.1 - Setup"
   ]
  },
  {
   "attachments": {},
   "cell_type": "markdown",
   "metadata": {},
   "source": [
    "### 0.1.1 - Package Imports"
   ]
  },
  {
   "cell_type": "code",
   "execution_count": 28,
   "metadata": {},
   "outputs": [],
   "source": [
    "# imports from python standard library\n",
    "import re\n",
    "from pathlib import Path\n",
    "\n",
    "# data science packages\n",
    "import matplotlib.pyplot as plt\n",
    "import pandas as pd\n",
    "import seaborn as sns\n",
    "\n",
    "# huggingface packages"
   ]
  },
  {
   "attachments": {},
   "cell_type": "markdown",
   "metadata": {},
   "source": [
    "### 0.1.2- Constants"
   ]
  },
  {
   "cell_type": "code",
   "execution_count": 8,
   "metadata": {},
   "outputs": [],
   "source": [
    "DATA_DIR = Path(\"./data\")\n",
    "DATA_DIR_RAW = DATA_DIR / \"raw\"\n",
    "TRANSCRIPT_DATA = DATA_DIR_RAW / \"transcript/The-Office-Lines-V4.csv\""
   ]
  },
  {
   "attachments": {},
   "cell_type": "markdown",
   "metadata": {},
   "source": [
    "## 0.2 Import Data"
   ]
  },
  {
   "cell_type": "code",
   "execution_count": 12,
   "metadata": {},
   "outputs": [
    {
     "data": {
      "text/html": [
       "<div>\n",
       "<style scoped>\n",
       "    .dataframe tbody tr th:only-of-type {\n",
       "        vertical-align: middle;\n",
       "    }\n",
       "\n",
       "    .dataframe tbody tr th {\n",
       "        vertical-align: top;\n",
       "    }\n",
       "\n",
       "    .dataframe thead th {\n",
       "        text-align: right;\n",
       "    }\n",
       "</style>\n",
       "<table border=\"1\" class=\"dataframe\">\n",
       "  <thead>\n",
       "    <tr style=\"text-align: right;\">\n",
       "      <th></th>\n",
       "      <th>season</th>\n",
       "      <th>episode</th>\n",
       "      <th>title</th>\n",
       "      <th>scene</th>\n",
       "      <th>speaker</th>\n",
       "      <th>line</th>\n",
       "    </tr>\n",
       "  </thead>\n",
       "  <tbody>\n",
       "    <tr>\n",
       "      <th>23580</th>\n",
       "      <td>5</td>\n",
       "      <td>20</td>\n",
       "      <td>New Boss</td>\n",
       "      <td>3750</td>\n",
       "      <td>Charles</td>\n",
       "      <td>Sp-Well, um, Michael should have filled you in...</td>\n",
       "    </tr>\n",
       "    <tr>\n",
       "      <th>44289</th>\n",
       "      <td>8</td>\n",
       "      <td>13</td>\n",
       "      <td>Jury Duty</td>\n",
       "      <td>6606</td>\n",
       "      <td>Dwight</td>\n",
       "      <td>That's good enough for me.</td>\n",
       "    </tr>\n",
       "    <tr>\n",
       "      <th>14404</th>\n",
       "      <td>4</td>\n",
       "      <td>3</td>\n",
       "      <td>Dunder Mifflin Infinity (Parts 1&amp;2)</td>\n",
       "      <td>2448</td>\n",
       "      <td>Angela</td>\n",
       "      <td>Elevators.</td>\n",
       "    </tr>\n",
       "    <tr>\n",
       "      <th>18864</th>\n",
       "      <td>5</td>\n",
       "      <td>3</td>\n",
       "      <td>Business Ethics</td>\n",
       "      <td>3155</td>\n",
       "      <td>Jim</td>\n",
       "      <td>To get married.</td>\n",
       "    </tr>\n",
       "    <tr>\n",
       "      <th>7915</th>\n",
       "      <td>3</td>\n",
       "      <td>3</td>\n",
       "      <td>The Coup</td>\n",
       "      <td>1352</td>\n",
       "      <td>Michael</td>\n",
       "      <td>Dwight, can I talk to you for a second?</td>\n",
       "    </tr>\n",
       "    <tr>\n",
       "      <th>35476</th>\n",
       "      <td>7</td>\n",
       "      <td>7</td>\n",
       "      <td>Christening</td>\n",
       "      <td>5389</td>\n",
       "      <td>Andy</td>\n",
       "      <td>What if the moon was your car and Jupiter was ...</td>\n",
       "    </tr>\n",
       "    <tr>\n",
       "      <th>28104</th>\n",
       "      <td>6</td>\n",
       "      <td>7</td>\n",
       "      <td>The Lover</td>\n",
       "      <td>4320</td>\n",
       "      <td>Dwight</td>\n",
       "      <td>Punishment fits the crime, I accept.</td>\n",
       "    </tr>\n",
       "    <tr>\n",
       "      <th>2688</th>\n",
       "      <td>2</td>\n",
       "      <td>5</td>\n",
       "      <td>Halloween</td>\n",
       "      <td>435</td>\n",
       "      <td>Dwight</td>\n",
       "      <td>Wait, what are you again? Oh, right... Three-h...</td>\n",
       "    </tr>\n",
       "    <tr>\n",
       "      <th>8002</th>\n",
       "      <td>3</td>\n",
       "      <td>3</td>\n",
       "      <td>The Coup</td>\n",
       "      <td>1365</td>\n",
       "      <td>Dwight</td>\n",
       "      <td>I'll do anything! Anything! I'll do your laun...</td>\n",
       "    </tr>\n",
       "    <tr>\n",
       "      <th>50034</th>\n",
       "      <td>9</td>\n",
       "      <td>9</td>\n",
       "      <td>Dwight Christmas</td>\n",
       "      <td>7432</td>\n",
       "      <td>Dwight</td>\n",
       "      <td>They're not abandoning the party.</td>\n",
       "    </tr>\n",
       "    <tr>\n",
       "      <th>47816</th>\n",
       "      <td>9</td>\n",
       "      <td>2</td>\n",
       "      <td>Roy's Wedding</td>\n",
       "      <td>7111</td>\n",
       "      <td>Kevin</td>\n",
       "      <td>Oh, yeah! Can I spin first?</td>\n",
       "    </tr>\n",
       "    <tr>\n",
       "      <th>31937</th>\n",
       "      <td>6</td>\n",
       "      <td>21</td>\n",
       "      <td>Happy Hour</td>\n",
       "      <td>4872</td>\n",
       "      <td>Jim:</td>\n",
       "      <td>what do you think?</td>\n",
       "    </tr>\n",
       "    <tr>\n",
       "      <th>32208</th>\n",
       "      <td>6</td>\n",
       "      <td>22</td>\n",
       "      <td>Secretary's Day</td>\n",
       "      <td>4907</td>\n",
       "      <td>Meredith</td>\n",
       "      <td>Have a cookie, Kev.</td>\n",
       "    </tr>\n",
       "    <tr>\n",
       "      <th>26286</th>\n",
       "      <td>6</td>\n",
       "      <td>1</td>\n",
       "      <td>Gossip</td>\n",
       "      <td>4117</td>\n",
       "      <td>Michael</td>\n",
       "      <td>The one true rumor, and this is going to ruin...</td>\n",
       "    </tr>\n",
       "    <tr>\n",
       "      <th>36156</th>\n",
       "      <td>7</td>\n",
       "      <td>9</td>\n",
       "      <td>WUPHF.com</td>\n",
       "      <td>5477</td>\n",
       "      <td>Ryan</td>\n",
       "      <td>We totally should.</td>\n",
       "    </tr>\n",
       "    <tr>\n",
       "      <th>36054</th>\n",
       "      <td>7</td>\n",
       "      <td>9</td>\n",
       "      <td>WUPHF.com</td>\n",
       "      <td>5469</td>\n",
       "      <td>Dwight</td>\n",
       "      <td>Hey, congratulations! Do you know what your pr...</td>\n",
       "    </tr>\n",
       "    <tr>\n",
       "      <th>31175</th>\n",
       "      <td>6</td>\n",
       "      <td>17</td>\n",
       "      <td>The Delivery (Parts 1&amp;2)</td>\n",
       "      <td>4757</td>\n",
       "      <td>Jim</td>\n",
       "      <td>Yes, car seat's right there.</td>\n",
       "    </tr>\n",
       "    <tr>\n",
       "      <th>1827</th>\n",
       "      <td>2</td>\n",
       "      <td>2</td>\n",
       "      <td>Sexual Harassment</td>\n",
       "      <td>300</td>\n",
       "      <td>Darryl</td>\n",
       "      <td>Man, we can see all your business coming aroun...</td>\n",
       "    </tr>\n",
       "    <tr>\n",
       "      <th>3109</th>\n",
       "      <td>2</td>\n",
       "      <td>6</td>\n",
       "      <td>The Fight</td>\n",
       "      <td>497</td>\n",
       "      <td>Kevin</td>\n",
       "      <td>Later Jim.</td>\n",
       "    </tr>\n",
       "    <tr>\n",
       "      <th>53464</th>\n",
       "      <td>9</td>\n",
       "      <td>21</td>\n",
       "      <td>Livin' the Dream</td>\n",
       "      <td>7956</td>\n",
       "      <td>Pam</td>\n",
       "      <td>They are.</td>\n",
       "    </tr>\n",
       "  </tbody>\n",
       "</table>\n",
       "</div>"
      ],
      "text/plain": [
       "       season  episode                                title  scene   speaker  \\\n",
       "23580       5       20                             New Boss   3750   Charles   \n",
       "44289       8       13                            Jury Duty   6606    Dwight   \n",
       "14404       4        3  Dunder Mifflin Infinity (Parts 1&2)   2448    Angela   \n",
       "18864       5        3                      Business Ethics   3155       Jim   \n",
       "7915        3        3                             The Coup   1352   Michael   \n",
       "35476       7        7                          Christening   5389      Andy   \n",
       "28104       6        7                            The Lover   4320    Dwight   \n",
       "2688        2        5                            Halloween    435    Dwight   \n",
       "8002        3        3                             The Coup   1365    Dwight   \n",
       "50034       9        9                     Dwight Christmas   7432    Dwight   \n",
       "47816       9        2                        Roy's Wedding   7111     Kevin   \n",
       "31937       6       21                           Happy Hour   4872     Jim:    \n",
       "32208       6       22                      Secretary's Day   4907  Meredith   \n",
       "26286       6        1                               Gossip   4117   Michael   \n",
       "36156       7        9                            WUPHF.com   5477      Ryan   \n",
       "36054       7        9                            WUPHF.com   5469    Dwight   \n",
       "31175       6       17             The Delivery (Parts 1&2)   4757       Jim   \n",
       "1827        2        2                    Sexual Harassment    300    Darryl   \n",
       "3109        2        6                            The Fight    497     Kevin   \n",
       "53464       9       21                     Livin' the Dream   7956       Pam   \n",
       "\n",
       "                                                    line  \n",
       "23580  Sp-Well, um, Michael should have filled you in...  \n",
       "44289                        That's good enough for me.   \n",
       "14404                                         Elevators.  \n",
       "18864                                    To get married.  \n",
       "7915             Dwight, can I talk to you for a second?  \n",
       "35476  What if the moon was your car and Jupiter was ...  \n",
       "28104              Punishment fits the crime, I accept.   \n",
       "2688   Wait, what are you again? Oh, right... Three-h...  \n",
       "8002    I'll do anything! Anything! I'll do your laun...  \n",
       "50034                 They're not abandoning the party.   \n",
       "47816                        Oh, yeah! Can I spin first?  \n",
       "31937                                 what do you think?  \n",
       "32208                                Have a cookie, Kev.  \n",
       "26286   The one true rumor, and this is going to ruin...  \n",
       "36156                                 We totally should.  \n",
       "36054  Hey, congratulations! Do you know what your pr...  \n",
       "31175                       Yes, car seat's right there.  \n",
       "1827   Man, we can see all your business coming aroun...  \n",
       "3109                                          Later Jim.  \n",
       "53464                                          They are.  "
      ]
     },
     "execution_count": 12,
     "metadata": {},
     "output_type": "execute_result"
    }
   ],
   "source": [
    "script_df = pd.read_csv(\n",
    "    filepath_or_buffer=TRANSCRIPT_DATA,\n",
    "    header=0,\n",
    "    usecols=['season', 'episode', 'title', 'scene', 'speaker', 'line']\n",
    "    )\n",
    "\n",
    "script_df.sample(20)"
   ]
  },
  {
   "attachments": {},
   "cell_type": "markdown",
   "metadata": {},
   "source": [
    "# 1 - EDA"
   ]
  },
  {
   "attachments": {},
   "cell_type": "markdown",
   "metadata": {},
   "source": [
    "## 1.1 - Speaker Frequency"
   ]
  },
  {
   "cell_type": "code",
   "execution_count": 21,
   "metadata": {},
   "outputs": [
    {
     "data": {
      "text/plain": [
       "Michael    0.197214\n",
       "Dwight     0.123604\n",
       "Jim        0.113902\n",
       "Pam        0.091037\n",
       "Andy       0.067697\n",
       "Kevin      0.028100\n",
       "Angela     0.028082\n",
       "Erin       0.025867\n",
       "Oscar      0.024457\n",
       "Ryan       0.021638\n",
       "Name: speaker, dtype: float64"
      ]
     },
     "execution_count": 21,
     "metadata": {},
     "output_type": "execute_result"
    }
   ],
   "source": [
    "# no filtering for seasons\n",
    "script_df['speaker'].value_counts(normalize=True).nlargest(10)"
   ]
  },
  {
   "attachments": {},
   "cell_type": "markdown",
   "metadata": {},
   "source": [
    "Across all nine seasons, Michael has the highest proportion of individual utterances."
   ]
  },
  {
   "cell_type": "code",
   "execution_count": 32,
   "metadata": {},
   "outputs": [
    {
     "data": {
      "image/png": "[encoded data removed]",
      "text/plain": [
       "<Figure size 603.25x500 with 1 Axes>"
      ]
     },
     "metadata": {},
     "output_type": "display_data"
    }
   ],
   "source": [
    "top_10_speaker_list = script_df['speaker'].value_counts(normalize=True).nlargest(10).index.tolist()\n",
    "top_10_speaker_df = script_df.loc[script_df['speaker'].isin(top_10_speaker_list)]\n",
    "\n",
    "sns.displot(\n",
    "    top_10_speaker_df,\n",
    "    x='season',\n",
    "    hue='speaker',\n",
    "    multiple='stack'\n",
    ");"
   ]
  },
  {
   "attachments": {},
   "cell_type": "markdown",
   "metadata": {},
   "source": [
    "That's one view of per-season speakers, albeit somewhat challenging to interpret given there are a different number of total utterances per season.\n",
    "\n",
    "What about each character's speaking per season:"
   ]
  },
  {
   "cell_type": "code",
   "execution_count": 33,
   "metadata": {},
   "outputs": [
    {
     "data": {
      "image/png": "[encoded data removed]",
      "text/plain": [
       "<Figure size 559.736x500 with 1 Axes>"
      ]
     },
     "metadata": {},
     "output_type": "display_data"
    }
   ],
   "source": [
    "sns.displot(\n",
    "    top_10_speaker_df,\n",
    "    x='speaker',\n",
    "    hue='season',\n",
    "    multiple='stack'\n",
    ");"
   ]
  },
  {
   "attachments": {},
   "cell_type": "markdown",
   "metadata": {},
   "source": [
    "# Preprocess"
   ]
  }
 ],
 "metadata": {
  "kernelspec": {
   "display_name": "ds_env",
   "language": "python",
   "name": "python3"
  },
  "language_info": {
   "codemirror_mode": {
    "name": "ipython",
    "version": 3
   },
   "file_extension": ".py",
   "mimetype": "text/x-python",
   "name": "python",
   "nbconvert_exporter": "python",
   "pygments_lexer": "ipython3",
   "version": "3.11.2"
  },
  "orig_nbformat": 4
 },
 "nbformat": 4,
 "nbformat_minor": 2
}
