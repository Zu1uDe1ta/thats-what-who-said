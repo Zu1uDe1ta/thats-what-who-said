{
 "cells": [
  {
   "attachments": {},
   "cell_type": "markdown",
   "metadata": {},
   "source": [
    "# `01_preprocess.ipynb`"
   ]
  },
  {
   "attachments": {},
   "cell_type": "markdown",
   "metadata": {},
   "source": [
    "## 0.1 - Setup"
   ]
  },
  {
   "attachments": {},
   "cell_type": "markdown",
   "metadata": {},
   "source": [
    "### 0.1.1 - Package Imports"
   ]
  },
  {
   "cell_type": "code",
   "execution_count": 29,
   "metadata": {},
   "outputs": [],
   "source": [
    "# imports from python standard library\n",
    "import re\n",
    "from pathlib import Path\n",
    "\n",
    "# data science packages\n",
    "import matplotlib.pyplot as plt\n",
    "import numpy as np\n",
    "import pandas as pd\n",
    "import plotly.express as px\n",
    "import seaborn as sns\n",
    "from sklearn.pipeline import Pipeline\n",
    "from sklearn.preprocessing import FunctionTransformer\n",
    "\n",
    "# huggingface packages"
   ]
  },
  {
   "attachments": {},
   "cell_type": "markdown",
   "metadata": {},
   "source": [
    "### 0.1.2- Constants"
   ]
  },
  {
   "cell_type": "code",
   "execution_count": 2,
   "metadata": {},
   "outputs": [],
   "source": [
    "DATA_DIR = Path(\"./data\")\n",
    "DATA_DIR_RAW = DATA_DIR / \"raw\"\n",
    "TRANSCRIPT_DATA = DATA_DIR_RAW / \"transcript/The-Office-Lines-V4.csv\""
   ]
  },
  {
   "attachments": {},
   "cell_type": "markdown",
   "metadata": {},
   "source": [
    "### 0.1.3 - Options"
   ]
  },
  {
   "cell_type": "code",
   "execution_count": 3,
   "metadata": {},
   "outputs": [],
   "source": [
    "# set plotting backend for Pandas\n",
    "pd.set_option('plotting.backend', 'plotly')"
   ]
  },
  {
   "attachments": {},
   "cell_type": "markdown",
   "metadata": {},
   "source": [
    "## 0.2 Import Data"
   ]
  },
  {
   "cell_type": "code",
   "execution_count": 4,
   "metadata": {},
   "outputs": [
    {
     "data": {
      "text/html": [
       "<div>\n",
       "<style scoped>\n",
       "    .dataframe tbody tr th:only-of-type {\n",
       "        vertical-align: middle;\n",
       "    }\n",
       "\n",
       "    .dataframe tbody tr th {\n",
       "        vertical-align: top;\n",
       "    }\n",
       "\n",
       "    .dataframe thead th {\n",
       "        text-align: right;\n",
       "    }\n",
       "</style>\n",
       "<table border=\"1\" class=\"dataframe\">\n",
       "  <thead>\n",
       "    <tr style=\"text-align: right;\">\n",
       "      <th></th>\n",
       "      <th>season</th>\n",
       "      <th>episode</th>\n",
       "      <th>title</th>\n",
       "      <th>scene</th>\n",
       "      <th>speaker</th>\n",
       "      <th>line</th>\n",
       "    </tr>\n",
       "  </thead>\n",
       "  <tbody>\n",
       "    <tr>\n",
       "      <th>32512</th>\n",
       "      <td>6</td>\n",
       "      <td>23</td>\n",
       "      <td>Body Language</td>\n",
       "      <td>4953</td>\n",
       "      <td>Michael</td>\n",
       "      <td>Oh, thanks.  You're not bad, either.</td>\n",
       "    </tr>\n",
       "    <tr>\n",
       "      <th>22519</th>\n",
       "      <td>5</td>\n",
       "      <td>16</td>\n",
       "      <td>Lecture Circuit (Part 1)</td>\n",
       "      <td>3621</td>\n",
       "      <td>Dwight</td>\n",
       "      <td>That's how much you and I contributed! I... D...</td>\n",
       "    </tr>\n",
       "    <tr>\n",
       "      <th>27384</th>\n",
       "      <td>6</td>\n",
       "      <td>4</td>\n",
       "      <td>Niagara (Parts 1&amp;2)</td>\n",
       "      <td>4249</td>\n",
       "      <td>Isabel</td>\n",
       "      <td>Um...  nothing. Anymore.</td>\n",
       "    </tr>\n",
       "    <tr>\n",
       "      <th>34743</th>\n",
       "      <td>7</td>\n",
       "      <td>5</td>\n",
       "      <td>The Sting</td>\n",
       "      <td>5280</td>\n",
       "      <td>Dwight</td>\n",
       "      <td>What are you doing?</td>\n",
       "    </tr>\n",
       "    <tr>\n",
       "      <th>37487</th>\n",
       "      <td>7</td>\n",
       "      <td>14</td>\n",
       "      <td>The Seminar</td>\n",
       "      <td>5645</td>\n",
       "      <td>Holly</td>\n",
       "      <td>Oh, I don't know, Michael. I'm not feeling up ...</td>\n",
       "    </tr>\n",
       "    <tr>\n",
       "      <th>52491</th>\n",
       "      <td>9</td>\n",
       "      <td>18</td>\n",
       "      <td>Promos</td>\n",
       "      <td>7802</td>\n",
       "      <td>Jim</td>\n",
       "      <td>Let's go to the conference room.</td>\n",
       "    </tr>\n",
       "    <tr>\n",
       "      <th>14458</th>\n",
       "      <td>4</td>\n",
       "      <td>3</td>\n",
       "      <td>Dunder Mifflin Infinity (Parts 1&amp;2)</td>\n",
       "      <td>2454</td>\n",
       "      <td>Michael</td>\n",
       "      <td>We don't need luck.</td>\n",
       "    </tr>\n",
       "    <tr>\n",
       "      <th>17100</th>\n",
       "      <td>4</td>\n",
       "      <td>15</td>\n",
       "      <td>Night Out</td>\n",
       "      <td>2867</td>\n",
       "      <td>Michael</td>\n",
       "      <td>Smells good.</td>\n",
       "    </tr>\n",
       "    <tr>\n",
       "      <th>37748</th>\n",
       "      <td>7</td>\n",
       "      <td>15</td>\n",
       "      <td>The Search</td>\n",
       "      <td>5683</td>\n",
       "      <td>Jim</td>\n",
       "      <td>Where'd I put what?</td>\n",
       "    </tr>\n",
       "    <tr>\n",
       "      <th>26991</th>\n",
       "      <td>6</td>\n",
       "      <td>4</td>\n",
       "      <td>Niagara (Parts 1&amp;2)</td>\n",
       "      <td>4199</td>\n",
       "      <td>Michael</td>\n",
       "      <td>Those glasses are super dark.</td>\n",
       "    </tr>\n",
       "    <tr>\n",
       "      <th>19334</th>\n",
       "      <td>5</td>\n",
       "      <td>4</td>\n",
       "      <td>Baby Shower</td>\n",
       "      <td>3215</td>\n",
       "      <td>Jim</td>\n",
       "      <td>I miss you.</td>\n",
       "    </tr>\n",
       "    <tr>\n",
       "      <th>19690</th>\n",
       "      <td>5</td>\n",
       "      <td>6</td>\n",
       "      <td>Employee Transfer</td>\n",
       "      <td>3279</td>\n",
       "      <td>Michael</td>\n",
       "      <td>Ah! Ah! Ahhhh!  Hey. Whew. Ow. I was having a ...</td>\n",
       "    </tr>\n",
       "    <tr>\n",
       "      <th>12384</th>\n",
       "      <td>3</td>\n",
       "      <td>21</td>\n",
       "      <td>Product Recall</td>\n",
       "      <td>2132</td>\n",
       "      <td>Andy</td>\n",
       "      <td>Hand me that water. I always say \"Beer me.\" Ge...</td>\n",
       "    </tr>\n",
       "    <tr>\n",
       "      <th>40691</th>\n",
       "      <td>7</td>\n",
       "      <td>25</td>\n",
       "      <td>Search Committee (Parts 1&amp;2)</td>\n",
       "      <td>6096</td>\n",
       "      <td>Gabe</td>\n",
       "      <td>Okay.</td>\n",
       "    </tr>\n",
       "    <tr>\n",
       "      <th>21868</th>\n",
       "      <td>5</td>\n",
       "      <td>13</td>\n",
       "      <td>Prince Family Paper</td>\n",
       "      <td>3524</td>\n",
       "      <td>Kevin</td>\n",
       "      <td>No, it's is she hot, not would you do her. Re...</td>\n",
       "    </tr>\n",
       "    <tr>\n",
       "      <th>53757</th>\n",
       "      <td>9</td>\n",
       "      <td>22</td>\n",
       "      <td>A.A.R.M</td>\n",
       "      <td>8004</td>\n",
       "      <td>Darryl</td>\n",
       "      <td>What up?</td>\n",
       "    </tr>\n",
       "    <tr>\n",
       "      <th>26337</th>\n",
       "      <td>6</td>\n",
       "      <td>1</td>\n",
       "      <td>Gossip</td>\n",
       "      <td>4121</td>\n",
       "      <td>Maurie</td>\n",
       "      <td>I learned that if you look even the tiniest bi...</td>\n",
       "    </tr>\n",
       "    <tr>\n",
       "      <th>2982</th>\n",
       "      <td>2</td>\n",
       "      <td>6</td>\n",
       "      <td>The Fight</td>\n",
       "      <td>483</td>\n",
       "      <td>Jim</td>\n",
       "      <td>Sounds tough. When you're a Jet,  you're a Jet...</td>\n",
       "    </tr>\n",
       "    <tr>\n",
       "      <th>47088</th>\n",
       "      <td>8</td>\n",
       "      <td>23</td>\n",
       "      <td>Turf War</td>\n",
       "      <td>6984</td>\n",
       "      <td>Jim</td>\n",
       "      <td>The salesmen have a commission cap, but we fig...</td>\n",
       "    </tr>\n",
       "    <tr>\n",
       "      <th>15270</th>\n",
       "      <td>4</td>\n",
       "      <td>7</td>\n",
       "      <td>Money (Parts 1&amp;2)</td>\n",
       "      <td>2568</td>\n",
       "      <td>Michael</td>\n",
       "      <td>I just love sales. I love it to death. It's as...</td>\n",
       "    </tr>\n",
       "  </tbody>\n",
       "</table>\n",
       "</div>"
      ],
      "text/plain": [
       "       season  episode                                title  scene  speaker  \\\n",
       "32512       6       23                        Body Language   4953  Michael   \n",
       "22519       5       16             Lecture Circuit (Part 1)   3621   Dwight   \n",
       "27384       6        4                  Niagara (Parts 1&2)   4249   Isabel   \n",
       "34743       7        5                            The Sting   5280   Dwight   \n",
       "37487       7       14                          The Seminar   5645    Holly   \n",
       "52491       9       18                               Promos   7802      Jim   \n",
       "14458       4        3  Dunder Mifflin Infinity (Parts 1&2)   2454  Michael   \n",
       "17100       4       15                            Night Out   2867  Michael   \n",
       "37748       7       15                           The Search   5683      Jim   \n",
       "26991       6        4                  Niagara (Parts 1&2)   4199  Michael   \n",
       "19334       5        4                          Baby Shower   3215      Jim   \n",
       "19690       5        6                    Employee Transfer   3279  Michael   \n",
       "12384       3       21                       Product Recall   2132     Andy   \n",
       "40691       7       25         Search Committee (Parts 1&2)   6096     Gabe   \n",
       "21868       5       13                  Prince Family Paper   3524    Kevin   \n",
       "53757       9       22                              A.A.R.M   8004   Darryl   \n",
       "26337       6        1                               Gossip   4121   Maurie   \n",
       "2982        2        6                            The Fight    483      Jim   \n",
       "47088       8       23                             Turf War   6984      Jim   \n",
       "15270       4        7                    Money (Parts 1&2)   2568  Michael   \n",
       "\n",
       "                                                    line  \n",
       "32512               Oh, thanks.  You're not bad, either.  \n",
       "22519   That's how much you and I contributed! I... D...  \n",
       "27384                           Um...  nothing. Anymore.  \n",
       "34743                                What are you doing?  \n",
       "37487  Oh, I don't know, Michael. I'm not feeling up ...  \n",
       "52491                   Let's go to the conference room.  \n",
       "14458                                We don't need luck.  \n",
       "17100                                       Smells good.  \n",
       "37748                                Where'd I put what?  \n",
       "26991                      Those glasses are super dark.  \n",
       "19334                                        I miss you.  \n",
       "19690  Ah! Ah! Ahhhh!  Hey. Whew. Ow. I was having a ...  \n",
       "12384  Hand me that water. I always say \"Beer me.\" Ge...  \n",
       "40691                                              Okay.  \n",
       "21868   No, it's is she hot, not would you do her. Re...  \n",
       "53757                                           What up?  \n",
       "26337  I learned that if you look even the tiniest bi...  \n",
       "2982   Sounds tough. When you're a Jet,  you're a Jet...  \n",
       "47088  The salesmen have a commission cap, but we fig...  \n",
       "15270  I just love sales. I love it to death. It's as...  "
      ]
     },
     "execution_count": 4,
     "metadata": {},
     "output_type": "execute_result"
    }
   ],
   "source": [
    "script_df = pd.read_csv(\n",
    "    filepath_or_buffer=TRANSCRIPT_DATA,\n",
    "    header=0,\n",
    "    usecols=['season', 'episode', 'title', 'scene', 'speaker', 'line']\n",
    "    )\n",
    "\n",
    "script_df.sample(20)"
   ]
  },
  {
   "attachments": {},
   "cell_type": "markdown",
   "metadata": {},
   "source": [
    "# 1 - EDA"
   ]
  },
  {
   "attachments": {},
   "cell_type": "markdown",
   "metadata": {},
   "source": [
    "## 1.1 - Speaker Frequency"
   ]
  },
  {
   "cell_type": "code",
   "execution_count": 5,
   "metadata": {},
   "outputs": [
    {
     "name": "stdout",
     "output_type": "stream",
     "text": [
      "frequency:\n",
      "\n",
      "Michael    10773\n",
      "Dwight      6752\n",
      "Jim         6222\n",
      "Pam         4973\n",
      "Andy        3698\n",
      "Kevin       1535\n",
      "Angela      1534\n",
      "Erin        1413\n",
      "Oscar       1336\n",
      "Ryan        1182\n",
      "Name: speaker, dtype: int64\n",
      "\n",
      "total of frequency (top 10):\t39418\n",
      "total of frequency (all):  \t54626\n",
      "\n",
      " --------------------\n",
      "\n",
      "normalized:\n",
      "\n",
      "Michael    0.197214\n",
      "Dwight     0.123604\n",
      "Jim        0.113902\n",
      "Pam        0.091037\n",
      "Andy       0.067697\n",
      "Kevin      0.028100\n",
      "Angela     0.028082\n",
      "Erin       0.025867\n",
      "Oscar      0.024457\n",
      "Ryan       0.021638\n",
      "Name: speaker, dtype: float64\n",
      "\n",
      "total of normalized:\t0.7215977739537949\n"
     ]
    }
   ],
   "source": [
    "# no filtering for seasons\n",
    "print(\"frequency:\\n\\n\", script_df['speaker'].value_counts(normalize=False).nlargest(10), sep=\"\")\n",
    "print(\"\\ntotal of frequency (top 10):\\t\", script_df['speaker'].value_counts(normalize=False).nlargest(10).sum(), sep=\"\")\n",
    "print(\"total of frequency (all):  \\t\", script_df['speaker'].value_counts(normalize=False).sum(), sep=\"\")\n",
    "print(\"\\n\", \"-\"*20)\n",
    "print(\"\\nnormalized:\\n\\n\", script_df['speaker'].value_counts(normalize=True).nlargest(10), sep=\"\")\n",
    "print(\"\\ntotal of normalized:\\t\", script_df['speaker'].value_counts(normalize=True).nlargest(10).sum(), sep=\"\")"
   ]
  },
  {
   "attachments": {},
   "cell_type": "markdown",
   "metadata": {},
   "source": [
    "The top 10 speakers account for ~72% of all lines in the show, with Michael having the highest proportion of individual utterances (just shy of 20%)."
   ]
  },
  {
   "cell_type": "code",
   "execution_count": 6,
   "metadata": {},
   "outputs": [],
   "source": [
    "top_10_speaker_list = script_df['speaker'].value_counts(normalize=True).nlargest(10).index.tolist()\n",
    "top_10_speaker_df = script_df.loc[script_df['speaker'].isin(top_10_speaker_list)]\n",
    "\n",
    "top_10_speaker_df = top_10_speaker_df.astype({'season': str})\n",
    "\n",
    "top_10_groupedby_season = top_10_speaker_df.groupby(by=['season'])['speaker'].value_counts(normalize=True).unstack('speaker')\n",
    "top_10_groupedby_speaker = top_10_speaker_df.groupby(by=['speaker'])['season'].value_counts(normalize=True).unstack('season')"
   ]
  },
  {
   "cell_type": "code",
   "execution_count": 7,
   "metadata": {},
   "outputs": [
    {
     "data": {
      "application/vnd.plotly.v1+json": {
       "config": {
        "plotlyServerURL": "https://plot.ly"
       },
       "data": [
        {
         "alignmentgroup": "True",
         "hovertemplate": "speaker=Andy<br>value=%{x}<br>season=%{y}<extra></extra>",
         "legendgroup": "Andy",
         "marker": {
          "color": "#1F77B4",
          "pattern": {
           "shape": ""
          }
         },
         "name": "Andy",
         "offsetgroup": "Andy",
         "orientation": "h",
         "showlegend": true,
         "textposition": "auto",
         "type": "bar",
         "x": [
          null,
          null,
          0.06469700237222342,
          0.05067848241484353,
          0.08153846153846153,
          0.08903500977430247,
          0.10952096998608626,
          0.23933378964179786,
          0.13978494623655913
         ],
         "xaxis": "x",
         "y": [
          "1",
          "2",
          "3",
          "4",
          "5",
          "6",
          "7",
          "8",
          "9"
         ],
         "yaxis": "y"
        },
        {
         "alignmentgroup": "True",
         "hovertemplate": "speaker=Angela<br>value=%{x}<br>season=%{y}<extra></extra>",
         "legendgroup": "Angela",
         "marker": {
          "color": "#FF7F0E",
          "pattern": {
           "shape": ""
          }
         },
         "name": "Angela",
         "offsetgroup": "Angela",
         "orientation": "h",
         "showlegend": true,
         "textposition": "auto",
         "type": "bar",
         "x": [
          0.018976897689768978,
          0.029046563192904655,
          0.042268708216519305,
          0.045970645250623096,
          0.035213675213675216,
          0.021148036253776436,
          0.031405287219240706,
          0.03559206023271732,
          0.08316875137151634
         ],
         "xaxis": "x",
         "y": [
          "1",
          "2",
          "3",
          "4",
          "5",
          "6",
          "7",
          "8",
          "9"
         ],
         "yaxis": "y"
        },
        {
         "alignmentgroup": "True",
         "hovertemplate": "speaker=Dwight<br>value=%{x}<br>season=%{y}<extra></extra>",
         "legendgroup": "Dwight",
         "marker": {
          "color": "#2CA02C",
          "pattern": {
           "shape": ""
          }
         },
         "name": "Dwight",
         "offsetgroup": "Dwight",
         "orientation": "h",
         "showlegend": true,
         "textposition": "auto",
         "type": "bar",
         "x": [
          0.1716171617161716,
          0.18070953436807094,
          0.17425059305585508,
          0.13043478260869565,
          0.1752136752136752,
          0.13755109294473075,
          0.1379447425959054,
          0.20465434633812457,
          0.2326091727013386
         ],
         "xaxis": "x",
         "y": [
          "1",
          "2",
          "3",
          "4",
          "5",
          "6",
          "7",
          "8",
          "9"
         ],
         "yaxis": "y"
        },
        {
         "alignmentgroup": "True",
         "hovertemplate": "speaker=Erin<br>value=%{x}<br>season=%{y}<extra></extra>",
         "legendgroup": "Erin",
         "marker": {
          "color": "#D62728",
          "pattern": {
           "shape": ""
          }
         },
         "name": "Erin",
         "offsetgroup": "Erin",
         "orientation": "h",
         "showlegend": true,
         "textposition": "auto",
         "type": "bar",
         "x": [
          null,
          null,
          null,
          null,
          0.00905982905982906,
          0.04958237071263551,
          0.06122043331345657,
          0.09034907597535935,
          0.08272986614000438
         ],
         "xaxis": "x",
         "y": [
          "1",
          "2",
          "3",
          "4",
          "5",
          "6",
          "7",
          "8",
          "9"
         ],
         "yaxis": "y"
        },
        {
         "alignmentgroup": "True",
         "hovertemplate": "speaker=Jim<br>value=%{x}<br>season=%{y}<extra></extra>",
         "legendgroup": "Jim",
         "marker": {
          "color": "#9467BD",
          "pattern": {
           "shape": ""
          }
         },
         "name": "Jim",
         "offsetgroup": "Jim",
         "orientation": "h",
         "showlegend": true,
         "textposition": "auto",
         "type": "bar",
         "x": [
          0.18811881188118812,
          0.16496674057649668,
          0.1466465387103731,
          0.15895873719191358,
          0.14239316239316238,
          0.15781055624666784,
          0.1343669250645995,
          0.18320784850558977,
          0.17467632214175993
         ],
         "xaxis": "x",
         "y": [
          "1",
          "2",
          "3",
          "4",
          "5",
          "6",
          "7",
          "8",
          "9"
         ],
         "yaxis": "y"
        },
        {
         "alignmentgroup": "True",
         "hovertemplate": "speaker=Kevin<br>value=%{x}<br>season=%{y}<extra></extra>",
         "legendgroup": "Kevin",
         "marker": {
          "color": "#8C564B",
          "pattern": {
           "shape": ""
          }
         },
         "name": "Kevin",
         "offsetgroup": "Kevin",
         "orientation": "h",
         "showlegend": true,
         "textposition": "auto",
         "type": "bar",
         "x": [
          0.018976897689768978,
          0.025942350332594236,
          0.03472072460642657,
          0.03461644973691498,
          0.02666666666666667,
          0.039097209880931225,
          0.04770423375074538,
          0.05201916495550993,
          0.05815229317533465
         ],
         "xaxis": "x",
         "y": [
          "1",
          "2",
          "3",
          "4",
          "5",
          "6",
          "7",
          "8",
          "9"
         ],
         "yaxis": "y"
        },
        {
         "alignmentgroup": "True",
         "hovertemplate": "speaker=Michael<br>value=%{x}<br>season=%{y}<extra></extra>",
         "legendgroup": "Michael",
         "marker": {
          "color": "#E377C2",
          "pattern": {
           "shape": ""
          }
         },
         "name": "Michael",
         "offsetgroup": "Michael",
         "orientation": "h",
         "showlegend": true,
         "textposition": "auto",
         "type": "bar",
         "x": [
          0.4034653465346535,
          0.4073170731707317,
          0.3666163467759327,
          0.3805040155081695,
          0.35128205128205126,
          0.33694686333748003,
          0.28225004969191014,
          null,
          0.00043888523151195964
         ],
         "xaxis": "x",
         "y": [
          "1",
          "2",
          "3",
          "4",
          "5",
          "6",
          "7",
          "8",
          "9"
         ],
         "yaxis": "y"
        },
        {
         "alignmentgroup": "True",
         "hovertemplate": "speaker=Oscar<br>value=%{x}<br>season=%{y}<extra></extra>",
         "legendgroup": "Oscar",
         "marker": {
          "color": "#7F7F7F",
          "pattern": {
           "shape": ""
          }
         },
         "name": "Oscar",
         "offsetgroup": "Oscar",
         "orientation": "h",
         "showlegend": true,
         "textposition": "auto",
         "type": "bar",
         "x": [
          0.034653465346534656,
          0.020399113082039913,
          0.012723743799870606,
          0.022154527831625588,
          0.03333333333333333,
          0.027723476097387595,
          0.03895845756310873,
          0.05065023956194387,
          0.06451612903225806
         ],
         "xaxis": "x",
         "y": [
          "1",
          "2",
          "3",
          "4",
          "5",
          "6",
          "7",
          "8",
          "9"
         ],
         "yaxis": "y"
        },
        {
         "alignmentgroup": "True",
         "hovertemplate": "speaker=Pam<br>value=%{x}<br>season=%{y}<extra></extra>",
         "legendgroup": "Pam",
         "marker": {
          "color": "#BCBD22",
          "pattern": {
           "shape": ""
          }
         },
         "name": "Pam",
         "offsetgroup": "Pam",
         "orientation": "h",
         "showlegend": true,
         "textposition": "auto",
         "type": "bar",
         "x": [
          0.13366336633663367,
          0.13547671840354766,
          0.1278844080224283,
          0.12101910828025478,
          0.11897435897435897,
          0.11977963390794384,
          0.12184456370502882,
          0.10403832991101986,
          0.16041255211762123
         ],
         "xaxis": "x",
         "y": [
          "1",
          "2",
          "3",
          "4",
          "5",
          "6",
          "7",
          "8",
          "9"
         ],
         "yaxis": "y"
        },
        {
         "alignmentgroup": "True",
         "hovertemplate": "speaker=Ryan<br>value=%{x}<br>season=%{y}<extra></extra>",
         "legendgroup": "Ryan",
         "marker": {
          "color": "#17BECF",
          "pattern": {
           "shape": ""
          }
         },
         "name": "Ryan",
         "offsetgroup": "Ryan",
         "orientation": "h",
         "showlegend": true,
         "textposition": "auto",
         "type": "bar",
         "x": [
          0.03052805280528053,
          0.03614190687361419,
          0.03019193444037093,
          0.05566325117695929,
          0.026324786324786326,
          0.021325750844144304,
          0.0347843371099185,
          0.04015514487793748,
          0.003511081852095677
         ],
         "xaxis": "x",
         "y": [
          "1",
          "2",
          "3",
          "4",
          "5",
          "6",
          "7",
          "8",
          "9"
         ],
         "yaxis": "y"
        }
       ],
       "layout": {
        "barmode": "relative",
        "font": {
         "color": "black",
         "family": "Open Sans, Arial"
        },
        "height": 500,
        "legend": {
         "title": {
          "font": {
           "size": 16
          },
          "text": "Speaker"
         },
         "tracegroupgap": 0
        },
        "margin": {
         "b": 110,
         "l": 110,
         "r": 110,
         "t": 110
        },
        "template": {
         "data": {
          "bar": [
           {
            "error_x": {
             "color": "#2a3f5f"
            },
            "error_y": {
             "color": "#2a3f5f"
            },
            "marker": {
             "line": {
              "color": "white",
              "width": 0.5
             },
             "pattern": {
              "fillmode": "overlay",
              "size": 10,
              "solidity": 0.2
             }
            },
            "type": "bar"
           }
          ],
          "barpolar": [
           {
            "marker": {
             "line": {
              "color": "white",
              "width": 0.5
             },
             "pattern": {
              "fillmode": "overlay",
              "size": 10,
              "solidity": 0.2
             }
            },
            "type": "barpolar"
           }
          ],
          "carpet": [
           {
            "aaxis": {
             "endlinecolor": "#2a3f5f",
             "gridcolor": "#C8D4E3",
             "linecolor": "#C8D4E3",
             "minorgridcolor": "#C8D4E3",
             "startlinecolor": "#2a3f5f"
            },
            "baxis": {
             "endlinecolor": "#2a3f5f",
             "gridcolor": "#C8D4E3",
             "linecolor": "#C8D4E3",
             "minorgridcolor": "#C8D4E3",
             "startlinecolor": "#2a3f5f"
            },
            "type": "carpet"
           }
          ],
          "choropleth": [
           {
            "colorbar": {
             "outlinewidth": 0,
             "ticks": ""
            },
            "type": "choropleth"
           }
          ],
          "contour": [
           {
            "colorbar": {
             "outlinewidth": 0,
             "ticks": ""
            },
            "colorscale": [
             [
              0,
              "#0d0887"
             ],
             [
              0.1111111111111111,
              "#46039f"
             ],
             [
              0.2222222222222222,
              "#7201a8"
             ],
             [
              0.3333333333333333,
              "#9c179e"
             ],
             [
              0.4444444444444444,
              "#bd3786"
             ],
             [
              0.5555555555555556,
              "#d8576b"
             ],
             [
              0.6666666666666666,
              "#ed7953"
             ],
             [
              0.7777777777777778,
              "#fb9f3a"
             ],
             [
              0.8888888888888888,
              "#fdca26"
             ],
             [
              1,
              "#f0f921"
             ]
            ],
            "type": "contour"
           }
          ],
          "contourcarpet": [
           {
            "colorbar": {
             "outlinewidth": 0,
             "ticks": ""
            },
            "type": "contourcarpet"
           }
          ],
          "heatmap": [
           {
            "colorbar": {
             "outlinewidth": 0,
             "ticks": ""
            },
            "colorscale": [
             [
              0,
              "#0d0887"
             ],
             [
              0.1111111111111111,
              "#46039f"
             ],
             [
              0.2222222222222222,
              "#7201a8"
             ],
             [
              0.3333333333333333,
              "#9c179e"
             ],
             [
              0.4444444444444444,
              "#bd3786"
             ],
             [
              0.5555555555555556,
              "#d8576b"
             ],
             [
              0.6666666666666666,
              "#ed7953"
             ],
             [
              0.7777777777777778,
              "#fb9f3a"
             ],
             [
              0.8888888888888888,
              "#fdca26"
             ],
             [
              1,
              "#f0f921"
             ]
            ],
            "type": "heatmap"
           }
          ],
          "heatmapgl": [
           {
            "colorbar": {
             "outlinewidth": 0,
             "ticks": ""
            },
            "colorscale": [
             [
              0,
              "#0d0887"
             ],
             [
              0.1111111111111111,
              "#46039f"
             ],
             [
              0.2222222222222222,
              "#7201a8"
             ],
             [
              0.3333333333333333,
              "#9c179e"
             ],
             [
              0.4444444444444444,
              "#bd3786"
             ],
             [
              0.5555555555555556,
              "#d8576b"
             ],
             [
              0.6666666666666666,
              "#ed7953"
             ],
             [
              0.7777777777777778,
              "#fb9f3a"
             ],
             [
              0.8888888888888888,
              "#fdca26"
             ],
             [
              1,
              "#f0f921"
             ]
            ],
            "type": "heatmapgl"
           }
          ],
          "histogram": [
           {
            "marker": {
             "pattern": {
              "fillmode": "overlay",
              "size": 10,
              "solidity": 0.2
             }
            },
            "type": "histogram"
           }
          ],
          "histogram2d": [
           {
            "colorbar": {
             "outlinewidth": 0,
             "ticks": ""
            },
            "colorscale": [
             [
              0,
              "#0d0887"
             ],
             [
              0.1111111111111111,
              "#46039f"
             ],
             [
              0.2222222222222222,
              "#7201a8"
             ],
             [
              0.3333333333333333,
              "#9c179e"
             ],
             [
              0.4444444444444444,
              "#bd3786"
             ],
             [
              0.5555555555555556,
              "#d8576b"
             ],
             [
              0.6666666666666666,
              "#ed7953"
             ],
             [
              0.7777777777777778,
              "#fb9f3a"
             ],
             [
              0.8888888888888888,
              "#fdca26"
             ],
             [
              1,
              "#f0f921"
             ]
            ],
            "type": "histogram2d"
           }
          ],
          "histogram2dcontour": [
           {
            "colorbar": {
             "outlinewidth": 0,
             "ticks": ""
            },
            "colorscale": [
             [
              0,
              "#0d0887"
             ],
             [
              0.1111111111111111,
              "#46039f"
             ],
             [
              0.2222222222222222,
              "#7201a8"
             ],
             [
              0.3333333333333333,
              "#9c179e"
             ],
             [
              0.4444444444444444,
              "#bd3786"
             ],
             [
              0.5555555555555556,
              "#d8576b"
             ],
             [
              0.6666666666666666,
              "#ed7953"
             ],
             [
              0.7777777777777778,
              "#fb9f3a"
             ],
             [
              0.8888888888888888,
              "#fdca26"
             ],
             [
              1,
              "#f0f921"
             ]
            ],
            "type": "histogram2dcontour"
           }
          ],
          "mesh3d": [
           {
            "colorbar": {
             "outlinewidth": 0,
             "ticks": ""
            },
            "type": "mesh3d"
           }
          ],
          "parcoords": [
           {
            "line": {
             "colorbar": {
              "outlinewidth": 0,
              "ticks": ""
             }
            },
            "type": "parcoords"
           }
          ],
          "pie": [
           {
            "automargin": true,
            "type": "pie"
           }
          ],
          "scatter": [
           {
            "fillpattern": {
             "fillmode": "overlay",
             "size": 10,
             "solidity": 0.2
            },
            "type": "scatter"
           }
          ],
          "scatter3d": [
           {
            "line": {
             "colorbar": {
              "outlinewidth": 0,
              "ticks": ""
             }
            },
            "marker": {
             "colorbar": {
              "outlinewidth": 0,
              "ticks": ""
             }
            },
            "type": "scatter3d"
           }
          ],
          "scattercarpet": [
           {
            "marker": {
             "colorbar": {
              "outlinewidth": 0,
              "ticks": ""
             }
            },
            "type": "scattercarpet"
           }
          ],
          "scattergeo": [
           {
            "marker": {
             "colorbar": {
              "outlinewidth": 0,
              "ticks": ""
             }
            },
            "type": "scattergeo"
           }
          ],
          "scattergl": [
           {
            "marker": {
             "colorbar": {
              "outlinewidth": 0,
              "ticks": ""
             }
            },
            "type": "scattergl"
           }
          ],
          "scattermapbox": [
           {
            "marker": {
             "colorbar": {
              "outlinewidth": 0,
              "ticks": ""
             }
            },
            "type": "scattermapbox"
           }
          ],
          "scatterpolar": [
           {
            "marker": {
             "colorbar": {
              "outlinewidth": 0,
              "ticks": ""
             }
            },
            "type": "scatterpolar"
           }
          ],
          "scatterpolargl": [
           {
            "marker": {
             "colorbar": {
              "outlinewidth": 0,
              "ticks": ""
             }
            },
            "type": "scatterpolargl"
           }
          ],
          "scatterternary": [
           {
            "marker": {
             "colorbar": {
              "outlinewidth": 0,
              "ticks": ""
             }
            },
            "type": "scatterternary"
           }
          ],
          "surface": [
           {
            "colorbar": {
             "outlinewidth": 0,
             "ticks": ""
            },
            "colorscale": [
             [
              0,
              "#0d0887"
             ],
             [
              0.1111111111111111,
              "#46039f"
             ],
             [
              0.2222222222222222,
              "#7201a8"
             ],
             [
              0.3333333333333333,
              "#9c179e"
             ],
             [
              0.4444444444444444,
              "#bd3786"
             ],
             [
              0.5555555555555556,
              "#d8576b"
             ],
             [
              0.6666666666666666,
              "#ed7953"
             ],
             [
              0.7777777777777778,
              "#fb9f3a"
             ],
             [
              0.8888888888888888,
              "#fdca26"
             ],
             [
              1,
              "#f0f921"
             ]
            ],
            "type": "surface"
           }
          ],
          "table": [
           {
            "cells": {
             "fill": {
              "color": "#EBF0F8"
             },
             "line": {
              "color": "white"
             }
            },
            "header": {
             "fill": {
              "color": "#C8D4E3"
             },
             "line": {
              "color": "white"
             }
            },
            "type": "table"
           }
          ]
         },
         "layout": {
          "annotationdefaults": {
           "arrowcolor": "#2a3f5f",
           "arrowhead": 0,
           "arrowwidth": 1
          },
          "autotypenumbers": "strict",
          "coloraxis": {
           "colorbar": {
            "outlinewidth": 0,
            "ticks": ""
           }
          },
          "colorscale": {
           "diverging": [
            [
             0,
             "#8e0152"
            ],
            [
             0.1,
             "#c51b7d"
            ],
            [
             0.2,
             "#de77ae"
            ],
            [
             0.3,
             "#f1b6da"
            ],
            [
             0.4,
             "#fde0ef"
            ],
            [
             0.5,
             "#f7f7f7"
            ],
            [
             0.6,
             "#e6f5d0"
            ],
            [
             0.7,
             "#b8e186"
            ],
            [
             0.8,
             "#7fbc41"
            ],
            [
             0.9,
             "#4d9221"
            ],
            [
             1,
             "#276419"
            ]
           ],
           "sequential": [
            [
             0,
             "#0d0887"
            ],
            [
             0.1111111111111111,
             "#46039f"
            ],
            [
             0.2222222222222222,
             "#7201a8"
            ],
            [
             0.3333333333333333,
             "#9c179e"
            ],
            [
             0.4444444444444444,
             "#bd3786"
            ],
            [
             0.5555555555555556,
             "#d8576b"
            ],
            [
             0.6666666666666666,
             "#ed7953"
            ],
            [
             0.7777777777777778,
             "#fb9f3a"
            ],
            [
             0.8888888888888888,
             "#fdca26"
            ],
            [
             1,
             "#f0f921"
            ]
           ],
           "sequentialminus": [
            [
             0,
             "#0d0887"
            ],
            [
             0.1111111111111111,
             "#46039f"
            ],
            [
             0.2222222222222222,
             "#7201a8"
            ],
            [
             0.3333333333333333,
             "#9c179e"
            ],
            [
             0.4444444444444444,
             "#bd3786"
            ],
            [
             0.5555555555555556,
             "#d8576b"
            ],
            [
             0.6666666666666666,
             "#ed7953"
            ],
            [
             0.7777777777777778,
             "#fb9f3a"
            ],
            [
             0.8888888888888888,
             "#fdca26"
            ],
            [
             1,
             "#f0f921"
            ]
           ]
          },
          "colorway": [
           "#636efa",
           "#EF553B",
           "#00cc96",
           "#ab63fa",
           "#FFA15A",
           "#19d3f3",
           "#FF6692",
           "#B6E880",
           "#FF97FF",
           "#FECB52"
          ],
          "font": {
           "color": "#2a3f5f"
          },
          "geo": {
           "bgcolor": "white",
           "lakecolor": "white",
           "landcolor": "white",
           "showlakes": true,
           "showland": true,
           "subunitcolor": "#C8D4E3"
          },
          "hoverlabel": {
           "align": "left"
          },
          "hovermode": "closest",
          "mapbox": {
           "style": "light"
          },
          "paper_bgcolor": "white",
          "plot_bgcolor": "white",
          "polar": {
           "angularaxis": {
            "gridcolor": "#EBF0F8",
            "linecolor": "#EBF0F8",
            "ticks": ""
           },
           "bgcolor": "white",
           "radialaxis": {
            "gridcolor": "#EBF0F8",
            "linecolor": "#EBF0F8",
            "ticks": ""
           }
          },
          "scene": {
           "xaxis": {
            "backgroundcolor": "white",
            "gridcolor": "#DFE8F3",
            "gridwidth": 2,
            "linecolor": "#EBF0F8",
            "showbackground": true,
            "ticks": "",
            "zerolinecolor": "#EBF0F8"
           },
           "yaxis": {
            "backgroundcolor": "white",
            "gridcolor": "#DFE8F3",
            "gridwidth": 2,
            "linecolor": "#EBF0F8",
            "showbackground": true,
            "ticks": "",
            "zerolinecolor": "#EBF0F8"
           },
           "zaxis": {
            "backgroundcolor": "white",
            "gridcolor": "#DFE8F3",
            "gridwidth": 2,
            "linecolor": "#EBF0F8",
            "showbackground": true,
            "ticks": "",
            "zerolinecolor": "#EBF0F8"
           }
          },
          "shapedefaults": {
           "line": {
            "color": "#2a3f5f"
           }
          },
          "ternary": {
           "aaxis": {
            "gridcolor": "#DFE8F3",
            "linecolor": "#A2B1C6",
            "ticks": ""
           },
           "baxis": {
            "gridcolor": "#DFE8F3",
            "linecolor": "#A2B1C6",
            "ticks": ""
           },
           "bgcolor": "white",
           "caxis": {
            "gridcolor": "#DFE8F3",
            "linecolor": "#A2B1C6",
            "ticks": ""
           }
          },
          "title": {
           "x": 0.05
          },
          "xaxis": {
           "automargin": true,
           "gridcolor": "#EBF0F8",
           "linecolor": "#EBF0F8",
           "ticks": "",
           "title": {
            "standoff": 15
           },
           "zerolinecolor": "#EBF0F8",
           "zerolinewidth": 2
          },
          "yaxis": {
           "automargin": true,
           "gridcolor": "#EBF0F8",
           "linecolor": "#EBF0F8",
           "ticks": "",
           "title": {
            "standoff": 15
           },
           "zerolinecolor": "#EBF0F8",
           "zerolinewidth": 2
          }
         }
        },
        "title": {
         "font": {
          "size": 20
         },
         "text": "Distribution of Each Seasons' Speakers"
        },
        "width": 1000,
        "xaxis": {
         "anchor": "y",
         "domain": [
          0,
          1
         ],
         "title": {
          "font": {
           "size": 16
          },
          "text": "Frequency of utterances (normalized)"
         }
        },
        "yaxis": {
         "anchor": "x",
         "domain": [
          0,
          1
         ],
         "title": {
          "font": {
           "size": 16
          },
          "text": "Season #"
         }
        }
       }
      }
     },
     "metadata": {},
     "output_type": "display_data"
    }
   ],
   "source": [
    "title = \"Distribution of Each Seasons' Speakers\"\n",
    "hlabel = \"Frequency of utterances (normalized)\"\n",
    "vlabel = \"Season #\"\n",
    "legend_label = \"Speaker\"\n",
    "\n",
    "template = 'plotly_white'\n",
    "colormap = px.colors.qualitative.D3\n",
    "\n",
    "width = 1000; height = 500; margin = 110\n",
    "\n",
    "fig = top_10_groupedby_season.plot.barh(color_discrete_sequence=colormap)\n",
    "\n",
    "fig.update_layout(\n",
    "    template=template,\n",
    "    title=dict(text=title, font=dict(size=20)),\n",
    "    xaxis_title=dict(text=hlabel, font=dict(size=16)),\n",
    "    yaxis_title=dict(text=vlabel, font=dict(size=16)),\n",
    "    legend_title=dict(text=legend_label, font=dict(size=16)),\n",
    "    margin=dict(l=margin, r=margin, t=margin, b=margin),\n",
    "    width=width, \n",
    "    height=height,\n",
    "    font=dict(family='Open Sans, Arial', color='black')\n",
    ")\n",
    "\n",
    "fig.show()"
   ]
  },
  {
   "attachments": {},
   "cell_type": "markdown",
   "metadata": {},
   "source": [
    "That's one view of per-season speakers, albeit somewhat challenging to interpret given there are a different number of total utterances per season.\n",
    "\n",
    "What about each character's speaking per season:"
   ]
  },
  {
   "cell_type": "code",
   "execution_count": 8,
   "metadata": {},
   "outputs": [
    {
     "data": {
      "application/vnd.plotly.v1+json": {
       "config": {
        "plotlyServerURL": "https://plot.ly"
       },
       "data": [
        {
         "alignmentgroup": "True",
         "hovertemplate": "season=1<br>value=%{x}<br>speaker=%{y}<extra></extra>",
         "legendgroup": "1",
         "marker": {
          "color": "#1F77B4",
          "pattern": {
           "shape": ""
          }
         },
         "name": "1",
         "offsetgroup": "1",
         "orientation": "h",
         "showlegend": true,
         "textposition": "auto",
         "type": "bar",
         "x": [
          null,
          0.01499348109517601,
          0.030805687203791468,
          null,
          0.03664416586306654,
          0.01498371335504886,
          0.045391255917571705,
          0.03143712574850299,
          0.032575909913533076,
          0.031302876480541454
         ],
         "xaxis": "x",
         "y": [
          "Andy",
          "Angela",
          "Dwight",
          "Erin",
          "Jim",
          "Kevin",
          "Michael",
          "Oscar",
          "Pam",
          "Ryan"
         ],
         "yaxis": "y"
        },
        {
         "alignmentgroup": "True",
         "hovertemplate": "season=2<br>value=%{x}<br>speaker=%{y}<extra></extra>",
         "legendgroup": "2",
         "marker": {
          "color": "#FF7F0E",
          "pattern": {
           "shape": ""
          }
         },
         "name": "2",
         "offsetgroup": "2",
         "orientation": "h",
         "showlegend": true,
         "textposition": "auto",
         "type": "bar",
         "x": [
          null,
          0.08539765319426336,
          0.12070497630331753,
          null,
          0.11957569913211186,
          0.0762214983713355,
          0.17051888981713542,
          0.0688622754491018,
          0.12286346269857229,
          0.13790186125211507
         ],
         "xaxis": "x",
         "y": [
          "Andy",
          "Angela",
          "Dwight",
          "Erin",
          "Jim",
          "Kevin",
          "Michael",
          "Oscar",
          "Pam",
          "Ryan"
         ],
         "yaxis": "y"
        },
        {
         "alignmentgroup": "True",
         "hovertemplate": "season=3<br>value=%{x}<br>speaker=%{y}<extra></extra>",
         "legendgroup": "3",
         "marker": {
          "color": "#2CA02C",
          "pattern": {
           "shape": ""
          }
         },
         "name": "3",
         "offsetgroup": "3",
         "orientation": "h",
         "showlegend": true,
         "textposition": "auto",
         "type": "bar",
         "x": [
          0.08112493239588967,
          0.12777053455019557,
          0.11966824644549763,
          null,
          0.1092896174863388,
          0.10488599348534201,
          0.1578019121878771,
          0.04416167664670659,
          0.11924391715262417,
          0.11844331641285956
         ],
         "xaxis": "x",
         "y": [
          "Andy",
          "Angela",
          "Dwight",
          "Erin",
          "Jim",
          "Kevin",
          "Michael",
          "Oscar",
          "Pam",
          "Ryan"
         ],
         "yaxis": "y"
        },
        {
         "alignmentgroup": "True",
         "hovertemplate": "season=4<br>value=%{x}<br>speaker=%{y}<extra></extra>",
         "legendgroup": "4",
         "marker": {
          "color": "#D62728",
          "pattern": {
           "shape": ""
          }
         },
         "name": "4",
         "offsetgroup": "4",
         "orientation": "h",
         "showlegend": true,
         "textposition": "auto",
         "type": "bar",
         "x": [
          0.0494862087614927,
          0.10821382007822686,
          0.06975710900473933,
          null,
          0.09225329476052717,
          0.08143322475570032,
          0.12754107490949596,
          0.059880239520958084,
          0.0878745224210738,
          0.1700507614213198
         ],
         "xaxis": "x",
         "y": [
          "Andy",
          "Angela",
          "Dwight",
          "Erin",
          "Jim",
          "Kevin",
          "Michael",
          "Oscar",
          "Pam",
          "Ryan"
         ],
         "yaxis": "y"
        },
        {
         "alignmentgroup": "True",
         "hovertemplate": "season=5<br>value=%{x}<br>speaker=%{y}<extra></extra>",
         "legendgroup": "5",
         "marker": {
          "color": "#9467BD",
          "pattern": {
           "shape": ""
          }
         },
         "name": "5",
         "offsetgroup": "5",
         "orientation": "h",
         "showlegend": true,
         "textposition": "auto",
         "type": "bar",
         "x": [
          0.12898864250946457,
          0.13428943937418514,
          0.15180687203791468,
          0.03750884642604388,
          0.13387978142076504,
          0.10162866449511401,
          0.19075466443887495,
          0.14595808383233533,
          0.13995576110999397,
          0.13028764805414553
         ],
         "xaxis": "x",
         "y": [
          "Andy",
          "Angela",
          "Dwight",
          "Erin",
          "Jim",
          "Kevin",
          "Michael",
          "Oscar",
          "Pam",
          "Ryan"
         ],
         "yaxis": "y"
        },
        {
         "alignmentgroup": "True",
         "hovertemplate": "season=6<br>value=%{x}<br>speaker=%{y}<extra></extra>",
         "legendgroup": "6",
         "marker": {
          "color": "#8C564B",
          "pattern": {
           "shape": ""
          }
         },
         "name": "6",
         "offsetgroup": "6",
         "orientation": "h",
         "showlegend": true,
         "textposition": "auto",
         "type": "bar",
         "x": [
          0.13547863710113575,
          0.07757496740547588,
          0.11463270142180094,
          0.19745222929936307,
          0.14271938283510124,
          0.14332247557003258,
          0.17599554441659704,
          0.11676646706586827,
          0.13553187210939072,
          0.10152284263959391
         ],
         "xaxis": "x",
         "y": [
          "Andy",
          "Angela",
          "Dwight",
          "Erin",
          "Jim",
          "Kevin",
          "Michael",
          "Oscar",
          "Pam",
          "Ryan"
         ],
         "yaxis": "y"
        },
        {
         "alignmentgroup": "True",
         "hovertemplate": "season=7<br>value=%{x}<br>speaker=%{y}<extra></extra>",
         "legendgroup": "7",
         "marker": {
          "color": "#E377C2",
          "pattern": {
           "shape": ""
          }
         },
         "name": "7",
         "offsetgroup": "7",
         "orientation": "h",
         "showlegend": true,
         "textposition": "auto",
         "type": "bar",
         "x": [
          0.14899945916711735,
          0.10299869621903521,
          0.10278436018957346,
          0.21797593772116064,
          0.10864673738347798,
          0.1563517915309446,
          0.13181100900399145,
          0.1467065868263473,
          0.12326563442589986,
          0.14805414551607446
         ],
         "xaxis": "x",
         "y": [
          "Andy",
          "Angela",
          "Dwight",
          "Erin",
          "Jim",
          "Kevin",
          "Michael",
          "Oscar",
          "Pam",
          "Ryan"
         ],
         "yaxis": "y"
        },
        {
         "alignmentgroup": "True",
         "hovertemplate": "season=8<br>value=%{x}<br>speaker=%{y}<extra></extra>",
         "legendgroup": "8",
         "marker": {
          "color": "#7F7F7F",
          "pattern": {
           "shape": ""
          }
         },
         "name": "8",
         "offsetgroup": "8",
         "orientation": "h",
         "showlegend": true,
         "textposition": "auto",
         "type": "bar",
         "x": [
          0.2836668469442942,
          0.1016949152542373,
          0.1328495260663507,
          0.2802547770700637,
          0.1290581806493089,
          0.1485342019543974,
          null,
          0.1661676646706587,
          0.0916951538306857,
          0.14890016920473773
         ],
         "xaxis": "x",
         "y": [
          "Andy",
          "Angela",
          "Dwight",
          "Erin",
          "Jim",
          "Kevin",
          "Michael",
          "Oscar",
          "Pam",
          "Ryan"
         ],
         "yaxis": "y"
        },
        {
         "alignmentgroup": "True",
         "hovertemplate": "season=9<br>value=%{x}<br>speaker=%{y}<extra></extra>",
         "legendgroup": "9",
         "marker": {
          "color": "#BCBD22",
          "pattern": {
           "shape": ""
          }
         },
         "name": "9",
         "offsetgroup": "9",
         "orientation": "h",
         "showlegend": true,
         "textposition": "auto",
         "type": "bar",
         "x": [
          0.17225527312060573,
          0.2470664928292047,
          0.15699052132701422,
          0.2668082094833687,
          0.1279331404693025,
          0.17263843648208468,
          0.000185649308456326,
          0.22005988023952097,
          0.14699376633822642,
          0.01353637901861252
         ],
         "xaxis": "x",
         "y": [
          "Andy",
          "Angela",
          "Dwight",
          "Erin",
          "Jim",
          "Kevin",
          "Michael",
          "Oscar",
          "Pam",
          "Ryan"
         ],
         "yaxis": "y"
        }
       ],
       "layout": {
        "barmode": "relative",
        "font": {
         "color": "black",
         "family": "Open Sans, Arial"
        },
        "height": 500,
        "legend": {
         "title": {
          "font": {
           "size": 16
          },
          "text": "Season #"
         },
         "tracegroupgap": 0
        },
        "margin": {
         "b": 110,
         "l": 110,
         "r": 110,
         "t": 110
        },
        "template": {
         "data": {
          "bar": [
           {
            "error_x": {
             "color": "#2a3f5f"
            },
            "error_y": {
             "color": "#2a3f5f"
            },
            "marker": {
             "line": {
              "color": "white",
              "width": 0.5
             },
             "pattern": {
              "fillmode": "overlay",
              "size": 10,
              "solidity": 0.2
             }
            },
            "type": "bar"
           }
          ],
          "barpolar": [
           {
            "marker": {
             "line": {
              "color": "white",
              "width": 0.5
             },
             "pattern": {
              "fillmode": "overlay",
              "size": 10,
              "solidity": 0.2
             }
            },
            "type": "barpolar"
           }
          ],
          "carpet": [
           {
            "aaxis": {
             "endlinecolor": "#2a3f5f",
             "gridcolor": "#C8D4E3",
             "linecolor": "#C8D4E3",
             "minorgridcolor": "#C8D4E3",
             "startlinecolor": "#2a3f5f"
            },
            "baxis": {
             "endlinecolor": "#2a3f5f",
             "gridcolor": "#C8D4E3",
             "linecolor": "#C8D4E3",
             "minorgridcolor": "#C8D4E3",
             "startlinecolor": "#2a3f5f"
            },
            "type": "carpet"
           }
          ],
          "choropleth": [
           {
            "colorbar": {
             "outlinewidth": 0,
             "ticks": ""
            },
            "type": "choropleth"
           }
          ],
          "contour": [
           {
            "colorbar": {
             "outlinewidth": 0,
             "ticks": ""
            },
            "colorscale": [
             [
              0,
              "#0d0887"
             ],
             [
              0.1111111111111111,
              "#46039f"
             ],
             [
              0.2222222222222222,
              "#7201a8"
             ],
             [
              0.3333333333333333,
              "#9c179e"
             ],
             [
              0.4444444444444444,
              "#bd3786"
             ],
             [
              0.5555555555555556,
              "#d8576b"
             ],
             [
              0.6666666666666666,
              "#ed7953"
             ],
             [
              0.7777777777777778,
              "#fb9f3a"
             ],
             [
              0.8888888888888888,
              "#fdca26"
             ],
             [
              1,
              "#f0f921"
             ]
            ],
            "type": "contour"
           }
          ],
          "contourcarpet": [
           {
            "colorbar": {
             "outlinewidth": 0,
             "ticks": ""
            },
            "type": "contourcarpet"
           }
          ],
          "heatmap": [
           {
            "colorbar": {
             "outlinewidth": 0,
             "ticks": ""
            },
            "colorscale": [
             [
              0,
              "#0d0887"
             ],
             [
              0.1111111111111111,
              "#46039f"
             ],
             [
              0.2222222222222222,
              "#7201a8"
             ],
             [
              0.3333333333333333,
              "#9c179e"
             ],
             [
              0.4444444444444444,
              "#bd3786"
             ],
             [
              0.5555555555555556,
              "#d8576b"
             ],
             [
              0.6666666666666666,
              "#ed7953"
             ],
             [
              0.7777777777777778,
              "#fb9f3a"
             ],
             [
              0.8888888888888888,
              "#fdca26"
             ],
             [
              1,
              "#f0f921"
             ]
            ],
            "type": "heatmap"
           }
          ],
          "heatmapgl": [
           {
            "colorbar": {
             "outlinewidth": 0,
             "ticks": ""
            },
            "colorscale": [
             [
              0,
              "#0d0887"
             ],
             [
              0.1111111111111111,
              "#46039f"
             ],
             [
              0.2222222222222222,
              "#7201a8"
             ],
             [
              0.3333333333333333,
              "#9c179e"
             ],
             [
              0.4444444444444444,
              "#bd3786"
             ],
             [
              0.5555555555555556,
              "#d8576b"
             ],
             [
              0.6666666666666666,
              "#ed7953"
             ],
             [
              0.7777777777777778,
              "#fb9f3a"
             ],
             [
              0.8888888888888888,
              "#fdca26"
             ],
             [
              1,
              "#f0f921"
             ]
            ],
            "type": "heatmapgl"
           }
          ],
          "histogram": [
           {
            "marker": {
             "pattern": {
              "fillmode": "overlay",
              "size": 10,
              "solidity": 0.2
             }
            },
            "type": "histogram"
           }
          ],
          "histogram2d": [
           {
            "colorbar": {
             "outlinewidth": 0,
             "ticks": ""
            },
            "colorscale": [
             [
              0,
              "#0d0887"
             ],
             [
              0.1111111111111111,
              "#46039f"
             ],
             [
              0.2222222222222222,
              "#7201a8"
             ],
             [
              0.3333333333333333,
              "#9c179e"
             ],
             [
              0.4444444444444444,
              "#bd3786"
             ],
             [
              0.5555555555555556,
              "#d8576b"
             ],
             [
              0.6666666666666666,
              "#ed7953"
             ],
             [
              0.7777777777777778,
              "#fb9f3a"
             ],
             [
              0.8888888888888888,
              "#fdca26"
             ],
             [
              1,
              "#f0f921"
             ]
            ],
            "type": "histogram2d"
           }
          ],
          "histogram2dcontour": [
           {
            "colorbar": {
             "outlinewidth": 0,
             "ticks": ""
            },
            "colorscale": [
             [
              0,
              "#0d0887"
             ],
             [
              0.1111111111111111,
              "#46039f"
             ],
             [
              0.2222222222222222,
              "#7201a8"
             ],
             [
              0.3333333333333333,
              "#9c179e"
             ],
             [
              0.4444444444444444,
              "#bd3786"
             ],
             [
              0.5555555555555556,
              "#d8576b"
             ],
             [
              0.6666666666666666,
              "#ed7953"
             ],
             [
              0.7777777777777778,
              "#fb9f3a"
             ],
             [
              0.8888888888888888,
              "#fdca26"
             ],
             [
              1,
              "#f0f921"
             ]
            ],
            "type": "histogram2dcontour"
           }
          ],
          "mesh3d": [
           {
            "colorbar": {
             "outlinewidth": 0,
             "ticks": ""
            },
            "type": "mesh3d"
           }
          ],
          "parcoords": [
           {
            "line": {
             "colorbar": {
              "outlinewidth": 0,
              "ticks": ""
             }
            },
            "type": "parcoords"
           }
          ],
          "pie": [
           {
            "automargin": true,
            "type": "pie"
           }
          ],
          "scatter": [
           {
            "fillpattern": {
             "fillmode": "overlay",
             "size": 10,
             "solidity": 0.2
            },
            "type": "scatter"
           }
          ],
          "scatter3d": [
           {
            "line": {
             "colorbar": {
              "outlinewidth": 0,
              "ticks": ""
             }
            },
            "marker": {
             "colorbar": {
              "outlinewidth": 0,
              "ticks": ""
             }
            },
            "type": "scatter3d"
           }
          ],
          "scattercarpet": [
           {
            "marker": {
             "colorbar": {
              "outlinewidth": 0,
              "ticks": ""
             }
            },
            "type": "scattercarpet"
           }
          ],
          "scattergeo": [
           {
            "marker": {
             "colorbar": {
              "outlinewidth": 0,
              "ticks": ""
             }
            },
            "type": "scattergeo"
           }
          ],
          "scattergl": [
           {
            "marker": {
             "colorbar": {
              "outlinewidth": 0,
              "ticks": ""
             }
            },
            "type": "scattergl"
           }
          ],
          "scattermapbox": [
           {
            "marker": {
             "colorbar": {
              "outlinewidth": 0,
              "ticks": ""
             }
            },
            "type": "scattermapbox"
           }
          ],
          "scatterpolar": [
           {
            "marker": {
             "colorbar": {
              "outlinewidth": 0,
              "ticks": ""
             }
            },
            "type": "scatterpolar"
           }
          ],
          "scatterpolargl": [
           {
            "marker": {
             "colorbar": {
              "outlinewidth": 0,
              "ticks": ""
             }
            },
            "type": "scatterpolargl"
           }
          ],
          "scatterternary": [
           {
            "marker": {
             "colorbar": {
              "outlinewidth": 0,
              "ticks": ""
             }
            },
            "type": "scatterternary"
           }
          ],
          "surface": [
           {
            "colorbar": {
             "outlinewidth": 0,
             "ticks": ""
            },
            "colorscale": [
             [
              0,
              "#0d0887"
             ],
             [
              0.1111111111111111,
              "#46039f"
             ],
             [
              0.2222222222222222,
              "#7201a8"
             ],
             [
              0.3333333333333333,
              "#9c179e"
             ],
             [
              0.4444444444444444,
              "#bd3786"
             ],
             [
              0.5555555555555556,
              "#d8576b"
             ],
             [
              0.6666666666666666,
              "#ed7953"
             ],
             [
              0.7777777777777778,
              "#fb9f3a"
             ],
             [
              0.8888888888888888,
              "#fdca26"
             ],
             [
              1,
              "#f0f921"
             ]
            ],
            "type": "surface"
           }
          ],
          "table": [
           {
            "cells": {
             "fill": {
              "color": "#EBF0F8"
             },
             "line": {
              "color": "white"
             }
            },
            "header": {
             "fill": {
              "color": "#C8D4E3"
             },
             "line": {
              "color": "white"
             }
            },
            "type": "table"
           }
          ]
         },
         "layout": {
          "annotationdefaults": {
           "arrowcolor": "#2a3f5f",
           "arrowhead": 0,
           "arrowwidth": 1
          },
          "autotypenumbers": "strict",
          "coloraxis": {
           "colorbar": {
            "outlinewidth": 0,
            "ticks": ""
           }
          },
          "colorscale": {
           "diverging": [
            [
             0,
             "#8e0152"
            ],
            [
             0.1,
             "#c51b7d"
            ],
            [
             0.2,
             "#de77ae"
            ],
            [
             0.3,
             "#f1b6da"
            ],
            [
             0.4,
             "#fde0ef"
            ],
            [
             0.5,
             "#f7f7f7"
            ],
            [
             0.6,
             "#e6f5d0"
            ],
            [
             0.7,
             "#b8e186"
            ],
            [
             0.8,
             "#7fbc41"
            ],
            [
             0.9,
             "#4d9221"
            ],
            [
             1,
             "#276419"
            ]
           ],
           "sequential": [
            [
             0,
             "#0d0887"
            ],
            [
             0.1111111111111111,
             "#46039f"
            ],
            [
             0.2222222222222222,
             "#7201a8"
            ],
            [
             0.3333333333333333,
             "#9c179e"
            ],
            [
             0.4444444444444444,
             "#bd3786"
            ],
            [
             0.5555555555555556,
             "#d8576b"
            ],
            [
             0.6666666666666666,
             "#ed7953"
            ],
            [
             0.7777777777777778,
             "#fb9f3a"
            ],
            [
             0.8888888888888888,
             "#fdca26"
            ],
            [
             1,
             "#f0f921"
            ]
           ],
           "sequentialminus": [
            [
             0,
             "#0d0887"
            ],
            [
             0.1111111111111111,
             "#46039f"
            ],
            [
             0.2222222222222222,
             "#7201a8"
            ],
            [
             0.3333333333333333,
             "#9c179e"
            ],
            [
             0.4444444444444444,
             "#bd3786"
            ],
            [
             0.5555555555555556,
             "#d8576b"
            ],
            [
             0.6666666666666666,
             "#ed7953"
            ],
            [
             0.7777777777777778,
             "#fb9f3a"
            ],
            [
             0.8888888888888888,
             "#fdca26"
            ],
            [
             1,
             "#f0f921"
            ]
           ]
          },
          "colorway": [
           "#636efa",
           "#EF553B",
           "#00cc96",
           "#ab63fa",
           "#FFA15A",
           "#19d3f3",
           "#FF6692",
           "#B6E880",
           "#FF97FF",
           "#FECB52"
          ],
          "font": {
           "color": "#2a3f5f"
          },
          "geo": {
           "bgcolor": "white",
           "lakecolor": "white",
           "landcolor": "white",
           "showlakes": true,
           "showland": true,
           "subunitcolor": "#C8D4E3"
          },
          "hoverlabel": {
           "align": "left"
          },
          "hovermode": "closest",
          "mapbox": {
           "style": "light"
          },
          "paper_bgcolor": "white",
          "plot_bgcolor": "white",
          "polar": {
           "angularaxis": {
            "gridcolor": "#EBF0F8",
            "linecolor": "#EBF0F8",
            "ticks": ""
           },
           "bgcolor": "white",
           "radialaxis": {
            "gridcolor": "#EBF0F8",
            "linecolor": "#EBF0F8",
            "ticks": ""
           }
          },
          "scene": {
           "xaxis": {
            "backgroundcolor": "white",
            "gridcolor": "#DFE8F3",
            "gridwidth": 2,
            "linecolor": "#EBF0F8",
            "showbackground": true,
            "ticks": "",
            "zerolinecolor": "#EBF0F8"
           },
           "yaxis": {
            "backgroundcolor": "white",
            "gridcolor": "#DFE8F3",
            "gridwidth": 2,
            "linecolor": "#EBF0F8",
            "showbackground": true,
            "ticks": "",
            "zerolinecolor": "#EBF0F8"
           },
           "zaxis": {
            "backgroundcolor": "white",
            "gridcolor": "#DFE8F3",
            "gridwidth": 2,
            "linecolor": "#EBF0F8",
            "showbackground": true,
            "ticks": "",
            "zerolinecolor": "#EBF0F8"
           }
          },
          "shapedefaults": {
           "line": {
            "color": "#2a3f5f"
           }
          },
          "ternary": {
           "aaxis": {
            "gridcolor": "#DFE8F3",
            "linecolor": "#A2B1C6",
            "ticks": ""
           },
           "baxis": {
            "gridcolor": "#DFE8F3",
            "linecolor": "#A2B1C6",
            "ticks": ""
           },
           "bgcolor": "white",
           "caxis": {
            "gridcolor": "#DFE8F3",
            "linecolor": "#A2B1C6",
            "ticks": ""
           }
          },
          "title": {
           "x": 0.05
          },
          "xaxis": {
           "automargin": true,
           "gridcolor": "#EBF0F8",
           "linecolor": "#EBF0F8",
           "ticks": "",
           "title": {
            "standoff": 15
           },
           "zerolinecolor": "#EBF0F8",
           "zerolinewidth": 2
          },
          "yaxis": {
           "automargin": true,
           "gridcolor": "#EBF0F8",
           "linecolor": "#EBF0F8",
           "ticks": "",
           "title": {
            "standoff": 15
           },
           "zerolinecolor": "#EBF0F8",
           "zerolinewidth": 2
          }
         }
        },
        "title": {
         "font": {
          "size": 20
         },
         "text": "Distribution of Each Speaker's Lines Across Seasons"
        },
        "width": 1000,
        "xaxis": {
         "anchor": "y",
         "domain": [
          0,
          1
         ],
         "title": {
          "font": {
           "size": 16
          },
          "text": "Frequency of utterances (normalized)"
         }
        },
        "yaxis": {
         "anchor": "x",
         "domain": [
          0,
          1
         ],
         "title": {
          "font": {
           "size": 16
          },
          "text": "Speaker (Limited to Top 10 Speakers)"
         }
        }
       }
      }
     },
     "metadata": {},
     "output_type": "display_data"
    }
   ],
   "source": [
    "title = \"Distribution of Each Speaker's Lines Across Seasons\"\n",
    "hlabel = \"Frequency of utterances (normalized)\"\n",
    "vlabel = \"Speaker (Limited to Top 10 Speakers)\"\n",
    "legend_label = \"Season #\"\n",
    "\n",
    "template = 'plotly_white'\n",
    "colormap = px.colors.qualitative.D3\n",
    "\n",
    "width = 1000; height = 500; margin = 110\n",
    "\n",
    "fig = top_10_groupedby_speaker.plot.barh(color_discrete_sequence=colormap)\n",
    "\n",
    "fig.update_layout(\n",
    "    template=template,\n",
    "    title=dict(text=title, font=dict(size=20)),\n",
    "    xaxis_title=dict(text=hlabel, font=dict(size=16)),\n",
    "    yaxis_title=dict(text=vlabel, font=dict(size=16)),\n",
    "    legend_title=dict(text=legend_label, font=dict(size=16)),\n",
    "    margin=dict(l=margin, r=margin, t=margin, b=margin),\n",
    "    width=width, \n",
    "    height=height,\n",
    "    font=dict(family='Open Sans, Arial', color='black')\n",
    ")\n",
    "\n",
    "fig.show()"
   ]
  },
  {
   "attachments": {},
   "cell_type": "markdown",
   "metadata": {},
   "source": [
    "# 2 - Preprocess"
   ]
  },
  {
   "attachments": {},
   "cell_type": "markdown",
   "metadata": {},
   "source": [
    "## 2.1 - Data Cleaning (Pipeline Setup)\n",
    "\n",
    "Using a pipeline approach for this, with `sklearn.pipeline.Pipeline` and `sklearn.preprocessing.FunctionTransformer` organizing the effort."
   ]
  },
  {
   "cell_type": "code",
   "execution_count": 133,
   "metadata": {},
   "outputs": [],
   "source": [
    "data_cleaning_pipeline = Pipeline(steps=[], verbose=True)"
   ]
  },
  {
   "attachments": {},
   "cell_type": "markdown",
   "metadata": {},
   "source": [
    "### 2.1.1 - `speaker` - Lowercase values\n",
    "\n",
    "Set all values of `speaker` column to lowercase."
   ]
  },
  {
   "cell_type": "code",
   "execution_count": 134,
   "metadata": {},
   "outputs": [],
   "source": [
    "def lowercase_speaker(df: pd.DataFrame) -> pd.DataFrame:\n",
    "    # copy df to not modify original\n",
    "    new_df = df.copy()\n",
    "\n",
    "    new_df['speaker'] = new_df['speaker'].apply(lambda s: s.lower())\n",
    "\n",
    "    return new_df"
   ]
  },
  {
   "cell_type": "code",
   "execution_count": 123,
   "metadata": {},
   "outputs": [
    {
     "name": "stdout",
     "output_type": "stream",
     "text": [
      "[before]\n",
      " ['Michael', 'Dwight', 'Jim', 'Pam', 'Andy', 'Kevin', 'Angela', 'Erin', 'Oscar', 'Ryan']\n",
      "[after]\n",
      " ['michael', 'dwight', 'jim', 'pam', 'andy', 'kevin', 'angela', 'erin', 'oscar', 'ryan']\n"
     ]
    }
   ],
   "source": [
    "# sanity check for lowercase_speaker()\n",
    "print(\"[before]\\n\", script_df['speaker'].value_counts().nlargest(10).index.tolist())\n",
    "\n",
    "print(\"[after]\\n\",lowercase_speaker(script_df)['speaker'].value_counts().nlargest(10).index.tolist())"
   ]
  },
  {
   "cell_type": "code",
   "execution_count": 135,
   "metadata": {},
   "outputs": [],
   "source": [
    "data_cleaning_pipeline.steps.append(\n",
    "    (\"lowercase_speaker\", \n",
    "     FunctionTransformer(lowercase_speaker, kw_args=dict()))\n",
    ")"
   ]
  },
  {
   "attachments": {},
   "cell_type": "markdown",
   "metadata": {},
   "source": [
    "### 2.1.2 - `speaker` - Find orphaned lines\n",
    "\n",
    "Extra attention is given to the `speaker` column as this is going to be the basis of our class label.\n",
    "\n",
    "Some values for `speaker` contain near-miss values for common speaker names, e.g. `Jim:` for `Jim`.\n",
    "\n",
    "Test out some regex patterns for dialogue by `Jim` to understand extent:"
   ]
  },
  {
   "cell_type": "code",
   "execution_count": 100,
   "metadata": {},
   "outputs": [
    {
     "data": {
      "text/plain": [
       "Jim:                            33\n",
       "Fake Jim                         6\n",
       "Jim and Pam                      4\n",
       "Andy and Jim                     4\n",
       "Pam and Jim                      2\n",
       "JIM9334                          2\n",
       "Michael and Jim                  2\n",
       "Jim                              2\n",
       "Jim, Pam, Michael and Dwight     2\n",
       "Jim & Dwight                     2\n",
       "Jim, Josh, and Dwight            1\n",
       "Pam/Jim                          1\n",
       "Jim & Pam                        1\n",
       "Dwight, Jim and Michael          1\n",
       " Jim                             1\n",
       "Jim and Dwight                   1\n",
       "Jim's Dad                        1\n",
       "\"Jim\"                            1\n",
       "Dwight, Erin, Jim & Kevin        1\n",
       "Jim's voicemail                  1\n",
       "Name: speaker, dtype: int64"
      ]
     },
     "execution_count": 100,
     "metadata": {},
     "output_type": "execute_result"
    }
   ],
   "source": [
    "test_speaker = 'jim'\n",
    "\n",
    "script_df.loc[\n",
    "    (script_df['speaker'].str.lower() != test_speaker)\n",
    "    &\n",
    "    (script_df['speaker'].str.lower().str.contains(test_speaker))\n",
    "    , 'speaker'].value_counts()"
   ]
  },
  {
   "attachments": {},
   "cell_type": "markdown",
   "metadata": {},
   "source": [
    "Most common occurrence is \"`Jim:`\" but also have occurrences of group dialogue (containing commas, \"and\", \"&\"), possessive uses (\"Jim's voicemail\"), and one episode where Jim was speaking with Pam over an instant messaging program as \"JIM9334\" (highlighted in next cell, below)."
   ]
  },
  {
   "cell_type": "code",
   "execution_count": 10,
   "metadata": {},
   "outputs": [
    {
     "data": {
      "text/html": [
       "<div>\n",
       "<style scoped>\n",
       "    .dataframe tbody tr th:only-of-type {\n",
       "        vertical-align: middle;\n",
       "    }\n",
       "\n",
       "    .dataframe tbody tr th {\n",
       "        vertical-align: top;\n",
       "    }\n",
       "\n",
       "    .dataframe thead th {\n",
       "        text-align: right;\n",
       "    }\n",
       "</style>\n",
       "<table border=\"1\" class=\"dataframe\">\n",
       "  <thead>\n",
       "    <tr style=\"text-align: right;\">\n",
       "      <th></th>\n",
       "      <th>season</th>\n",
       "      <th>episode</th>\n",
       "      <th>title</th>\n",
       "      <th>scene</th>\n",
       "      <th>speaker</th>\n",
       "      <th>line</th>\n",
       "    </tr>\n",
       "  </thead>\n",
       "  <tbody>\n",
       "    <tr>\n",
       "      <th>18756</th>\n",
       "      <td>5</td>\n",
       "      <td>1</td>\n",
       "      <td>Weight Loss (Parts 1&amp;2)</td>\n",
       "      <td>3145</td>\n",
       "      <td>JIM9334</td>\n",
       "      <td>Yeah. C'mon we'll meet halfway. You'll be back...</td>\n",
       "    </tr>\n",
       "    <tr>\n",
       "      <th>18761</th>\n",
       "      <td>5</td>\n",
       "      <td>1</td>\n",
       "      <td>Weight Loss (Parts 1&amp;2)</td>\n",
       "      <td>3145</td>\n",
       "      <td>JIM9334</td>\n",
       "      <td>The rest stop where that soda exploded on me. ...</td>\n",
       "    </tr>\n",
       "  </tbody>\n",
       "</table>\n",
       "</div>"
      ],
      "text/plain": [
       "       season  episode                    title  scene  speaker  \\\n",
       "18756       5        1  Weight Loss (Parts 1&2)   3145  JIM9334   \n",
       "18761       5        1  Weight Loss (Parts 1&2)   3145  JIM9334   \n",
       "\n",
       "                                                    line  \n",
       "18756  Yeah. C'mon we'll meet halfway. You'll be back...  \n",
       "18761  The rest stop where that soda exploded on me. ...  "
      ]
     },
     "execution_count": 10,
     "metadata": {},
     "output_type": "execute_result"
    }
   ],
   "source": [
    "script_df.loc[\n",
    "    script_df['speaker'] == 'JIM9334'\n",
    "]"
   ]
  },
  {
   "attachments": {},
   "cell_type": "markdown",
   "metadata": {},
   "source": [
    "Try to apply a regex search to recover some of the clearer examples to potentially associate them with \"Jim\".\n",
    "\n",
    "Regex pattern chosen will:\n",
    " - be applied case-insensitive\n",
    " - allow preceding whitespace but otherwise expect \"Jim\" at start of string\n",
    " - disallow \"Jim\" to be followed by \" and\", \" &\", apostrophes, commas, or digits"
   ]
  },
  {
   "cell_type": "code",
   "execution_count": 74,
   "metadata": {},
   "outputs": [
    {
     "data": {
      "text/html": [
       "<div>\n",
       "<style scoped>\n",
       "    .dataframe tbody tr th:only-of-type {\n",
       "        vertical-align: middle;\n",
       "    }\n",
       "\n",
       "    .dataframe tbody tr th {\n",
       "        vertical-align: top;\n",
       "    }\n",
       "\n",
       "    .dataframe thead th {\n",
       "        text-align: right;\n",
       "    }\n",
       "</style>\n",
       "<table border=\"1\" class=\"dataframe\">\n",
       "  <thead>\n",
       "    <tr style=\"text-align: right;\">\n",
       "      <th></th>\n",
       "      <th>season</th>\n",
       "      <th>episode</th>\n",
       "      <th>title</th>\n",
       "      <th>scene</th>\n",
       "      <th>speaker</th>\n",
       "      <th>line</th>\n",
       "    </tr>\n",
       "  </thead>\n",
       "  <tbody>\n",
       "    <tr>\n",
       "      <th>21870</th>\n",
       "      <td>5</td>\n",
       "      <td>13</td>\n",
       "      <td>Prince Family Paper</td>\n",
       "      <td>3524</td>\n",
       "      <td>Jim</td>\n",
       "      <td>This close.</td>\n",
       "    </tr>\n",
       "    <tr>\n",
       "      <th>24997</th>\n",
       "      <td>5</td>\n",
       "      <td>25</td>\n",
       "      <td>Broke</td>\n",
       "      <td>3955</td>\n",
       "      <td>Jim</td>\n",
       "      <td>You're just out of business?</td>\n",
       "    </tr>\n",
       "    <tr>\n",
       "      <th>31120</th>\n",
       "      <td>6</td>\n",
       "      <td>17</td>\n",
       "      <td>The Delivery (Parts 1&amp;2)</td>\n",
       "      <td>4755</td>\n",
       "      <td>Jim</td>\n",
       "      <td>Okay. Sshh. I know.</td>\n",
       "    </tr>\n",
       "    <tr>\n",
       "      <th>31800</th>\n",
       "      <td>6</td>\n",
       "      <td>21</td>\n",
       "      <td>Happy Hour</td>\n",
       "      <td>4846</td>\n",
       "      <td>Jim:</td>\n",
       "      <td>made a sale.</td>\n",
       "    </tr>\n",
       "    <tr>\n",
       "      <th>31809</th>\n",
       "      <td>6</td>\n",
       "      <td>21</td>\n",
       "      <td>Happy Hour</td>\n",
       "      <td>4846</td>\n",
       "      <td>Jim:</td>\n",
       "      <td>.  I had a really hard work out this morning.</td>\n",
       "    </tr>\n",
       "    <tr>\n",
       "      <th>31823</th>\n",
       "      <td>6</td>\n",
       "      <td>21</td>\n",
       "      <td>Happy Hour</td>\n",
       "      <td>4849</td>\n",
       "      <td>Jim:</td>\n",
       "      <td>w.</td>\n",
       "    </tr>\n",
       "    <tr>\n",
       "      <th>31848</th>\n",
       "      <td>6</td>\n",
       "      <td>21</td>\n",
       "      <td>Happy Hour</td>\n",
       "      <td>4855</td>\n",
       "      <td>Jim:</td>\n",
       "      <td>would love, love, love to go. Only problem is,...</td>\n",
       "    </tr>\n",
       "    <tr>\n",
       "      <th>31850</th>\n",
       "      <td>6</td>\n",
       "      <td>21</td>\n",
       "      <td>Happy Hour</td>\n",
       "      <td>4855</td>\n",
       "      <td>Jim:</td>\n",
       "      <td>od one.</td>\n",
       "    </tr>\n",
       "    <tr>\n",
       "      <th>31852</th>\n",
       "      <td>6</td>\n",
       "      <td>21</td>\n",
       "      <td>Happy Hour</td>\n",
       "      <td>4855</td>\n",
       "      <td>Jim:</td>\n",
       "      <td>solutely, I will do that right now.</td>\n",
       "    </tr>\n",
       "    <tr>\n",
       "      <th>31853</th>\n",
       "      <td>6</td>\n",
       "      <td>21</td>\n",
       "      <td>Happy Hour</td>\n",
       "      <td>4856</td>\n",
       "      <td>Jim:</td>\n",
       "      <td>gotta tell you, this baby is amazing. She gets...</td>\n",
       "    </tr>\n",
       "    <tr>\n",
       "      <th>31854</th>\n",
       "      <td>6</td>\n",
       "      <td>21</td>\n",
       "      <td>Happy Hour</td>\n",
       "      <td>4857</td>\n",
       "      <td>Jim:</td>\n",
       "      <td>some of the co-workers were thinking of going ...</td>\n",
       "    </tr>\n",
       "    <tr>\n",
       "      <th>31858</th>\n",
       "      <td>6</td>\n",
       "      <td>21</td>\n",
       "      <td>Happy Hour</td>\n",
       "      <td>4858</td>\n",
       "      <td>Jim:</td>\n",
       "      <td>did not see this coming.</td>\n",
       "    </tr>\n",
       "    <tr>\n",
       "      <th>31881</th>\n",
       "      <td>6</td>\n",
       "      <td>21</td>\n",
       "      <td>Happy Hour</td>\n",
       "      <td>4862</td>\n",
       "      <td>Jim:</td>\n",
       "      <td>ay.</td>\n",
       "    </tr>\n",
       "    <tr>\n",
       "      <th>31883</th>\n",
       "      <td>6</td>\n",
       "      <td>21</td>\n",
       "      <td>Happy Hour</td>\n",
       "      <td>4862</td>\n",
       "      <td>Jim:</td>\n",
       "      <td>y?</td>\n",
       "    </tr>\n",
       "    <tr>\n",
       "      <th>31885</th>\n",
       "      <td>6</td>\n",
       "      <td>21</td>\n",
       "      <td>Happy Hour</td>\n",
       "      <td>4862</td>\n",
       "      <td>Jim:</td>\n",
       "      <td>u've been gone for a long time.</td>\n",
       "    </tr>\n",
       "    <tr>\n",
       "      <th>31896</th>\n",
       "      <td>6</td>\n",
       "      <td>21</td>\n",
       "      <td>Happy Hour</td>\n",
       "      <td>4864</td>\n",
       "      <td>Jim:</td>\n",
       "      <td>sy.</td>\n",
       "    </tr>\n",
       "    <tr>\n",
       "      <th>31898</th>\n",
       "      <td>6</td>\n",
       "      <td>21</td>\n",
       "      <td>Happy Hour</td>\n",
       "      <td>4864</td>\n",
       "      <td>Jim:</td>\n",
       "      <td>, hey, Pam and I are gonna go play pool with o...</td>\n",
       "    </tr>\n",
       "    <tr>\n",
       "      <th>31900</th>\n",
       "      <td>6</td>\n",
       "      <td>21</td>\n",
       "      <td>Happy Hour</td>\n",
       "      <td>4864</td>\n",
       "      <td>Jim:</td>\n",
       "      <td>uld you like to be our fourth?</td>\n",
       "    </tr>\n",
       "    <tr>\n",
       "      <th>31902</th>\n",
       "      <td>6</td>\n",
       "      <td>21</td>\n",
       "      <td>Happy Hour</td>\n",
       "      <td>4864</td>\n",
       "      <td>Jim:</td>\n",
       "      <td>l right.</td>\n",
       "    </tr>\n",
       "    <tr>\n",
       "      <th>31937</th>\n",
       "      <td>6</td>\n",
       "      <td>21</td>\n",
       "      <td>Happy Hour</td>\n",
       "      <td>4872</td>\n",
       "      <td>Jim:</td>\n",
       "      <td>what do you think?</td>\n",
       "    </tr>\n",
       "    <tr>\n",
       "      <th>31939</th>\n",
       "      <td>6</td>\n",
       "      <td>21</td>\n",
       "      <td>Happy Hour</td>\n",
       "      <td>4872</td>\n",
       "      <td>Jim:</td>\n",
       "      <td>out Julie?</td>\n",
       "    </tr>\n",
       "    <tr>\n",
       "      <th>31941</th>\n",
       "      <td>6</td>\n",
       "      <td>21</td>\n",
       "      <td>Happy Hour</td>\n",
       "      <td>4872</td>\n",
       "      <td>Jim:</td>\n",
       "      <td>ah.</td>\n",
       "    </tr>\n",
       "    <tr>\n",
       "      <th>31943</th>\n",
       "      <td>6</td>\n",
       "      <td>21</td>\n",
       "      <td>Happy Hour</td>\n",
       "      <td>4872</td>\n",
       "      <td>Jim:</td>\n",
       "      <td>you like her?</td>\n",
       "    </tr>\n",
       "    <tr>\n",
       "      <th>31945</th>\n",
       "      <td>6</td>\n",
       "      <td>21</td>\n",
       "      <td>Happy Hour</td>\n",
       "      <td>4872</td>\n",
       "      <td>Jim:</td>\n",
       "      <td>Pam was right?</td>\n",
       "    </tr>\n",
       "    <tr>\n",
       "      <th>31947</th>\n",
       "      <td>6</td>\n",
       "      <td>21</td>\n",
       "      <td>Happy Hour</td>\n",
       "      <td>4872</td>\n",
       "      <td>Jim:</td>\n",
       "      <td>out you two hitting it off.</td>\n",
       "    </tr>\n",
       "    <tr>\n",
       "      <th>31952</th>\n",
       "      <td>6</td>\n",
       "      <td>21</td>\n",
       "      <td>Happy Hour</td>\n",
       "      <td>4875</td>\n",
       "      <td>Jim:</td>\n",
       "      <td>y, you're supposed to hit the white ball first...</td>\n",
       "    </tr>\n",
       "    <tr>\n",
       "      <th>31956</th>\n",
       "      <td>6</td>\n",
       "      <td>21</td>\n",
       "      <td>Happy Hour</td>\n",
       "      <td>4877</td>\n",
       "      <td>Jim:</td>\n",
       "      <td>u want to just make a run for it?</td>\n",
       "    </tr>\n",
       "    <tr>\n",
       "      <th>31959</th>\n",
       "      <td>6</td>\n",
       "      <td>21</td>\n",
       "      <td>Happy Hour</td>\n",
       "      <td>4877</td>\n",
       "      <td>Jim:</td>\n",
       "      <td>at is happening?</td>\n",
       "    </tr>\n",
       "    <tr>\n",
       "      <th>31992</th>\n",
       "      <td>6</td>\n",
       "      <td>21</td>\n",
       "      <td>Happy Hour</td>\n",
       "      <td>4881</td>\n",
       "      <td>Jim:</td>\n",
       "      <td>chael, you don't have to do this.</td>\n",
       "    </tr>\n",
       "    <tr>\n",
       "      <th>32019</th>\n",
       "      <td>6</td>\n",
       "      <td>21</td>\n",
       "      <td>Happy Hour</td>\n",
       "      <td>4885</td>\n",
       "      <td>Jim:</td>\n",
       "      <td>ichael playing air guitar on pool table] Wow. ...</td>\n",
       "    </tr>\n",
       "    <tr>\n",
       "      <th>32021</th>\n",
       "      <td>6</td>\n",
       "      <td>21</td>\n",
       "      <td>Happy Hour</td>\n",
       "      <td>4885</td>\n",
       "      <td>Jim:</td>\n",
       "      <td>ybe it should come from a note... with flowers...</td>\n",
       "    </tr>\n",
       "    <tr>\n",
       "      <th>32042</th>\n",
       "      <td>6</td>\n",
       "      <td>21</td>\n",
       "      <td>Happy Hour</td>\n",
       "      <td>4885</td>\n",
       "      <td>Jim:</td>\n",
       "      <td>stopped.</td>\n",
       "    </tr>\n",
       "    <tr>\n",
       "      <th>32098</th>\n",
       "      <td>6</td>\n",
       "      <td>21</td>\n",
       "      <td>Happy Hour</td>\n",
       "      <td>4889</td>\n",
       "      <td>Jim:</td>\n",
       "      <td>l right.</td>\n",
       "    </tr>\n",
       "    <tr>\n",
       "      <th>32100</th>\n",
       "      <td>6</td>\n",
       "      <td>21</td>\n",
       "      <td>Happy Hour</td>\n",
       "      <td>4889</td>\n",
       "      <td>Jim:</td>\n",
       "      <td>e ya. Nice girl.</td>\n",
       "    </tr>\n",
       "    <tr>\n",
       "      <th>32142</th>\n",
       "      <td>6</td>\n",
       "      <td>21</td>\n",
       "      <td>Happy Hour</td>\n",
       "      <td>4896</td>\n",
       "      <td>Jim:</td>\n",
       "      <td>u all right?</td>\n",
       "    </tr>\n",
       "    <tr>\n",
       "      <th>32146</th>\n",
       "      <td>6</td>\n",
       "      <td>21</td>\n",
       "      <td>Happy Hour</td>\n",
       "      <td>4896</td>\n",
       "      <td>Jim:</td>\n",
       "      <td>tually, you didn't.</td>\n",
       "    </tr>\n",
       "  </tbody>\n",
       "</table>\n",
       "</div>"
      ],
      "text/plain": [
       "       season  episode                     title  scene speaker  \\\n",
       "21870       5       13       Prince Family Paper   3524    Jim    \n",
       "24997       5       25                     Broke   3955    Jim    \n",
       "31120       6       17  The Delivery (Parts 1&2)   4755     Jim   \n",
       "31800       6       21                Happy Hour   4846   Jim:    \n",
       "31809       6       21                Happy Hour   4846   Jim:    \n",
       "31823       6       21                Happy Hour   4849   Jim:    \n",
       "31848       6       21                Happy Hour   4855   Jim:    \n",
       "31850       6       21                Happy Hour   4855   Jim:    \n",
       "31852       6       21                Happy Hour   4855   Jim:    \n",
       "31853       6       21                Happy Hour   4856   Jim:    \n",
       "31854       6       21                Happy Hour   4857   Jim:    \n",
       "31858       6       21                Happy Hour   4858   Jim:    \n",
       "31881       6       21                Happy Hour   4862   Jim:    \n",
       "31883       6       21                Happy Hour   4862   Jim:    \n",
       "31885       6       21                Happy Hour   4862   Jim:    \n",
       "31896       6       21                Happy Hour   4864   Jim:    \n",
       "31898       6       21                Happy Hour   4864   Jim:    \n",
       "31900       6       21                Happy Hour   4864   Jim:    \n",
       "31902       6       21                Happy Hour   4864   Jim:    \n",
       "31937       6       21                Happy Hour   4872   Jim:    \n",
       "31939       6       21                Happy Hour   4872   Jim:    \n",
       "31941       6       21                Happy Hour   4872   Jim:    \n",
       "31943       6       21                Happy Hour   4872   Jim:    \n",
       "31945       6       21                Happy Hour   4872   Jim:    \n",
       "31947       6       21                Happy Hour   4872   Jim:    \n",
       "31952       6       21                Happy Hour   4875   Jim:    \n",
       "31956       6       21                Happy Hour   4877   Jim:    \n",
       "31959       6       21                Happy Hour   4877   Jim:    \n",
       "31992       6       21                Happy Hour   4881   Jim:    \n",
       "32019       6       21                Happy Hour   4885   Jim:    \n",
       "32021       6       21                Happy Hour   4885   Jim:    \n",
       "32042       6       21                Happy Hour   4885   Jim:    \n",
       "32098       6       21                Happy Hour   4889   Jim:    \n",
       "32100       6       21                Happy Hour   4889   Jim:    \n",
       "32142       6       21                Happy Hour   4896   Jim:    \n",
       "32146       6       21                Happy Hour   4896   Jim:    \n",
       "\n",
       "                                                    line  \n",
       "21870                                        This close.  \n",
       "24997                       You're just out of business?  \n",
       "31120                               Okay. Sshh. I know.   \n",
       "31800                                       made a sale.  \n",
       "31809      .  I had a really hard work out this morning.  \n",
       "31823                                                w.   \n",
       "31848  would love, love, love to go. Only problem is,...  \n",
       "31850                                            od one.  \n",
       "31852                solutely, I will do that right now.  \n",
       "31853  gotta tell you, this baby is amazing. She gets...  \n",
       "31854  some of the co-workers were thinking of going ...  \n",
       "31858                           did not see this coming.  \n",
       "31881                                                ay.  \n",
       "31883                                                 y?  \n",
       "31885                    u've been gone for a long time.  \n",
       "31896                                                sy.  \n",
       "31898  , hey, Pam and I are gonna go play pool with o...  \n",
       "31900                     uld you like to be our fourth?  \n",
       "31902                                           l right.  \n",
       "31937                                 what do you think?  \n",
       "31939                                         out Julie?  \n",
       "31941                                                ah.  \n",
       "31943                                      you like her?  \n",
       "31945                                     Pam was right?  \n",
       "31947                        out you two hitting it off.  \n",
       "31952  y, you're supposed to hit the white ball first...  \n",
       "31956                  u want to just make a run for it?  \n",
       "31959                                   at is happening?  \n",
       "31992                  chael, you don't have to do this.  \n",
       "32019  ichael playing air guitar on pool table] Wow. ...  \n",
       "32021  ybe it should come from a note... with flowers...  \n",
       "32042                                           stopped.  \n",
       "32098                                           l right.  \n",
       "32100                                   e ya. Nice girl.  \n",
       "32142                                       u all right?  \n",
       "32146                                tually, you didn't.  "
      ]
     },
     "execution_count": 74,
     "metadata": {},
     "output_type": "execute_result"
    }
   ],
   "source": [
    "test_speaker = 'jim'\n",
    "test_pattern = r\"^\\s?\" + test_speaker + r\"(?!\\s?and|'|,|\\d|\\s?&)\"\n",
    "\n",
    "script_df.loc[\n",
    "    # first condition is to avoid simple/direct matches of \"Jim\"\n",
    "    (script_df['speaker'].str.lower() != test_speaker)\n",
    "    &\n",
    "    (script_df['speaker'].str.contains(test_pattern, case=False))\n",
    "    ]"
   ]
  },
  {
   "attachments": {},
   "cell_type": "markdown",
   "metadata": {},
   "source": [
    "It appears the \"Happy Hour\" episode from Season 6 may contain some errors in the dialogue. We may not want to include \"Jim:\" after all, to avoid adding noise to our data.\n",
    "\n",
    "Try the same regex approach using Dwight to see how transferrable the approach is:"
   ]
  },
  {
   "cell_type": "code",
   "execution_count": 91,
   "metadata": {},
   "outputs": [
    {
     "data": {
      "text/html": [
       "<div>\n",
       "<style scoped>\n",
       "    .dataframe tbody tr th:only-of-type {\n",
       "        vertical-align: middle;\n",
       "    }\n",
       "\n",
       "    .dataframe tbody tr th {\n",
       "        vertical-align: top;\n",
       "    }\n",
       "\n",
       "    .dataframe thead th {\n",
       "        text-align: right;\n",
       "    }\n",
       "</style>\n",
       "<table border=\"1\" class=\"dataframe\">\n",
       "  <thead>\n",
       "    <tr style=\"text-align: right;\">\n",
       "      <th></th>\n",
       "      <th>season</th>\n",
       "      <th>episode</th>\n",
       "      <th>title</th>\n",
       "      <th>scene</th>\n",
       "      <th>speaker</th>\n",
       "      <th>line</th>\n",
       "    </tr>\n",
       "  </thead>\n",
       "  <tbody>\n",
       "    <tr>\n",
       "      <th>8751</th>\n",
       "      <td>3</td>\n",
       "      <td>7</td>\n",
       "      <td>Branch Closing</td>\n",
       "      <td>1498</td>\n",
       "      <td>Dwight</td>\n",
       "      <td>When you become close with someone, you develo...</td>\n",
       "    </tr>\n",
       "    <tr>\n",
       "      <th>14746</th>\n",
       "      <td>4</td>\n",
       "      <td>5</td>\n",
       "      <td>Launch Party (Parts 1&amp;2)</td>\n",
       "      <td>2493</td>\n",
       "      <td>DwightKSchrute</td>\n",
       "      <td>You tell me.</td>\n",
       "    </tr>\n",
       "    <tr>\n",
       "      <th>14749</th>\n",
       "      <td>4</td>\n",
       "      <td>5</td>\n",
       "      <td>Launch Party (Parts 1&amp;2)</td>\n",
       "      <td>2493</td>\n",
       "      <td>DwightKSchrute</td>\n",
       "      <td>How do I know this isn't Jim?</td>\n",
       "    </tr>\n",
       "    <tr>\n",
       "      <th>14809</th>\n",
       "      <td>4</td>\n",
       "      <td>5</td>\n",
       "      <td>Launch Party (Parts 1&amp;2)</td>\n",
       "      <td>2499</td>\n",
       "      <td>DwightKSchrute</td>\n",
       "      <td>Here's a suggestion computer. I assume you re...</td>\n",
       "    </tr>\n",
       "    <tr>\n",
       "      <th>20103</th>\n",
       "      <td>5</td>\n",
       "      <td>7</td>\n",
       "      <td>Customer Survey</td>\n",
       "      <td>3321</td>\n",
       "      <td>Dwight</td>\n",
       "      <td>Customer service might be monitoring this conv...</td>\n",
       "    </tr>\n",
       "    <tr>\n",
       "      <th>32185</th>\n",
       "      <td>6</td>\n",
       "      <td>22</td>\n",
       "      <td>Secretary's Day</td>\n",
       "      <td>4904</td>\n",
       "      <td>Dwight.</td>\n",
       "      <td>Hello, Pam.</td>\n",
       "    </tr>\n",
       "  </tbody>\n",
       "</table>\n",
       "</div>"
      ],
      "text/plain": [
       "       season  episode                     title  scene         speaker  \\\n",
       "8751        3        7            Branch Closing   1498         Dwight    \n",
       "14746       4        5  Launch Party (Parts 1&2)   2493  DwightKSchrute   \n",
       "14749       4        5  Launch Party (Parts 1&2)   2493  DwightKSchrute   \n",
       "14809       4        5  Launch Party (Parts 1&2)   2499  DwightKSchrute   \n",
       "20103       5        7           Customer Survey   3321         Dwight    \n",
       "32185       6       22           Secretary's Day   4904         Dwight.   \n",
       "\n",
       "                                                    line  \n",
       "8751   When you become close with someone, you develo...  \n",
       "14746                                       You tell me.  \n",
       "14749                      How do I know this isn't Jim?  \n",
       "14809   Here's a suggestion computer. I assume you re...  \n",
       "20103  Customer service might be monitoring this conv...  \n",
       "32185                                        Hello, Pam.  "
      ]
     },
     "execution_count": 91,
     "metadata": {},
     "output_type": "execute_result"
    }
   ],
   "source": [
    "test_speaker = 'dwight'\n",
    "test_pattern = r\"^\\s?\" + test_speaker + r\"(?!\\s?and|'|,|\\d|\\s?&|:)\"\n",
    "\n",
    "script_df.loc[\n",
    "    # first condition is to avoid simple/direct matches of test speaker\n",
    "    (script_df['speaker'].str.lower() != test_speaker)\n",
    "    &\n",
    "    (script_df['speaker'].str.contains(test_pattern, case=False))\n",
    "    ]"
   ]
  },
  {
   "attachments": {},
   "cell_type": "markdown",
   "metadata": {},
   "source": [
    "We again see an instant messager screenname (\"DwightKSchrute\") appear, more problematic dialogue from S6E21 \"Happy Hour\", and otherwise ~3 lines that could be \"saved\".\n",
    "\n",
    "For a Dwight/Not Dwight classifier, these three lines would represent $\\frac{3}{(6,752+3)}$ or 0.044\\% of Dwight's individual utterances and $\\frac{3}{39,418+3}$ or 0.008\\% of the top 10 character's utterances."
   ]
  },
  {
   "cell_type": "code",
   "execution_count": 13,
   "metadata": {},
   "outputs": [
    {
     "name": "stdout",
     "output_type": "stream",
     "text": [
      "percent of Dwight's utterances: 0.044 %\n",
      "percent of top 10's utterances: 0.008 %\n"
     ]
    }
   ],
   "source": [
    "print(f\"percent of Dwight's utterances: {3 / (6752+3) * 100:0.3f} %\")\n",
    "print(f\"percent of top 10's utterances: {3 / (39418+3) * 100:0.3f} %\")"
   ]
  },
  {
   "attachments": {},
   "cell_type": "markdown",
   "metadata": {},
   "source": [
    "For this cleaning step, we'll add the colon to the exclusionary regex. Later, we'll examine S06E21 to see if its dialogue can be used at all."
   ]
  },
  {
   "cell_type": "code",
   "execution_count": 82,
   "metadata": {},
   "outputs": [],
   "source": [
    "def connect_orphaned_lines(df: pd.DataFrame, speaker_list: list[str]) -> pd.DataFrame:\n",
    "    # copy incoming df to not modify original\n",
    "    new_df = df.copy()\n",
    "    \n",
    "    for speaker in speaker_list:\n",
    "        match_pattern = r\"^\\s?\" + speaker + r\"(?!\\s?and|'|,|\\d|\\s?&|:)\"\n",
    "\n",
    "        new_df.loc[\n",
    "            # first condition is to avoid simple/direct matches of test speaker\n",
    "            (new_df['speaker'].str.lower() != speaker.lower())\n",
    "            &\n",
    "            # second condition matches the regex pattern \n",
    "            (new_df['speaker'].str.contains(match_pattern, case=False)),\n",
    "            'speaker'] = speaker\n",
    "    \n",
    "    return new_df"
   ]
  },
  {
   "cell_type": "code",
   "execution_count": 143,
   "metadata": {},
   "outputs": [
    {
     "name": "stdout",
     "output_type": "stream",
     "text": [
      "[before] utterances by 'dwight' or 'Dwight': 6752\n",
      "[after]  utterances by 'dwight' or 'Dwight': 6758\n"
     ]
    }
   ],
   "source": [
    "# sanity check of connect_orphaned_lines()\n",
    "test_speaker = \"dwight\"\n",
    "test_pattern = r\"^\\s?\" + test_speaker + r\"(?!\\s?and|'|,|\\d|\\s?&|:)\"\n",
    "\n",
    "print(\"[before] utterances by 'dwight' or 'Dwight':\", \n",
    "      script_df.loc[(script_df.speaker.str.lower() == 'dwight'), 'speaker'].count())\n",
    "\n",
    "sanity_df = connect_orphaned_lines(script_df, [test_speaker])\n",
    "\n",
    "print(\"[after]  utterances by 'dwight' or 'Dwight':\",\n",
    "      sanity_df.loc[(sanity_df.speaker.str.lower() == 'dwight'), 'speaker'].count())"
   ]
  },
  {
   "cell_type": "code",
   "execution_count": 136,
   "metadata": {},
   "outputs": [],
   "source": [
    "top_10_speaker_list = script_df['speaker'].value_counts(normalize=True).nlargest(10).index.tolist()\n",
    "\n",
    "data_cleaning_pipeline.steps.append(\n",
    "    (\"connect_orphaned_lines_top10\", \n",
    "     FunctionTransformer(connect_orphaned_lines, kw_args=dict(speaker_list=top_10_speaker_list)))\n",
    ")"
   ]
  },
  {
   "attachments": {},
   "cell_type": "markdown",
   "metadata": {},
   "source": [
    "### 2.1.3 - `season` / `episode` - Problematic Episodes"
   ]
  },
  {
   "attachments": {},
   "cell_type": "markdown",
   "metadata": {},
   "source": [
    "#### 2.1.3.1 - S06E21 \"Happy Hour\"\n",
    "\n",
    "The text of this episode appears to have an issue in the dataset CSV file.\n",
    "\n",
    "Here's an excerpt from the raw CSV file text showing a few lines of \"good\" data followed by the first few lines of this episode's data:\n",
    "\n",
    "```\n",
    "season,episode,title,scene,speaker,line,\n",
    "...\n",
    "6,20,New Leads,4844,Dwight,We have an awesome bean bag chair that's perfect for the break room. ,\n",
    "6,20,New Leads,4844,Phyllis,Yuck. I'm not going to sit on that disgusting seat.,\n",
    "6,20,New Leads,4844,Dwight,\"Yeah, damn right you're not. 'Cause it's for me and Michael only \",\n",
    "6,20,New Leads,4845,Andy, It's freezing out here.,\n",
    "6,20,New Leads,4845,Erin, Go on. I have warm blood. ,\n",
    "6,20,New Leads,4845,Andy,\"Oh wow, thank you. You're the nicest person I've ever met. \",\n",
    "6,21,Happy Hour,4846,Dwight: ,ichael grunts and strains while doing push-ups] Breathe. Work your core. Come on.,\n",
    "6,21,Happy Hour,4846,Michael: ,w many is that?,\n",
    "6,21,Happy Hour,4846,Dwight: ,\"t counting the last one, 25.\",\n",
    "6,21,Happy Hour,4846,Michael: ,unt the last one.,\n",
    "6,21,Happy Hour,4846,Dwight: ,\", 25 and one girl push-up!\",\n",
    "6,21,Happy Hour,4846,Michael: ,\", new record!\",\n",
    "...\n",
    "```\n",
    "\n",
    "The remainder of the dialogue from the \"Happy Hour\" episode shows the same types of aberrations:  \n",
    " - Speaker name ends with a colon \"`:`\" character followed by a space\n",
    " - The first character(s) of text from the line appear to be cut off\n",
    " - Some descriptive text, describing a non-spoken detail surrounding the line and enclosed in square brackets (`[]`), remains in the lines.\n",
    "    - For example: \"`ichael grunts and strains while doing push-ups]`\"\n",
    "\n",
    "The data for these lines are still distinguishable based on the numeric fields for `season` and `episode`, so they could be easily and accurately filtered out of our dataset."
   ]
  },
  {
   "cell_type": "code",
   "execution_count": 137,
   "metadata": {},
   "outputs": [],
   "source": [
    "def remove_episode(df: pd.DataFrame, season: int, episode: int) -> pd.DataFrame:\n",
    "    \"\"\"Removes the episode's rows from the overall dataframe.\"\"\"\n",
    "    mask_index = df.loc[\n",
    "        (\n",
    "            (df['season'] == season) \n",
    "            & \n",
    "            (df['episode'] == episode)\n",
    "        )\n",
    "    ].index\n",
    "\n",
    "    return df.drop(index=mask_index)"
   ]
  },
  {
   "cell_type": "code",
   "execution_count": 28,
   "metadata": {},
   "outputs": [
    {
     "name": "stdout",
     "output_type": "stream",
     "text": [
      "[before] episodes in season 6:\n",
      " [ 1  2  3  4  6  7  8  9 10 11 12 13 14 15 16 17 19 20 21 22 23 24 25 26]\n",
      "\n",
      "[after] episodes in season 6:\n",
      " [ 1  2  3  4  6  7  8  9 10 11 12 13 14 15 16 17 19 20 22 23 24 25 26]\n"
     ]
    }
   ],
   "source": [
    "# sanity check for remove_episode()\n",
    "print(\"[before] episodes in season 6:\\n\", script_df.loc[script_df['season'] == 6, 'episode'].unique())\n",
    "\n",
    "sanity_df = remove_episode(script_df, season=6, episode=21)\n",
    "\n",
    "print(\"\\n[after] episodes in season 6:\\n\", sanity_df.loc[script_df['season'] == 6, 'episode'].unique())"
   ]
  },
  {
   "attachments": {},
   "cell_type": "markdown",
   "metadata": {},
   "source": [
    "For now we're only removing this one episode, so adding this to the data cleaning pipeline."
   ]
  },
  {
   "cell_type": "code",
   "execution_count": 138,
   "metadata": {},
   "outputs": [],
   "source": [
    "data_cleaning_pipeline.steps.append(\n",
    "    (\"remove_episode_s6e21\", \n",
    "     FunctionTransformer(remove_episode, kw_args=dict(season=6, episode=21)))\n",
    ")"
   ]
  },
  {
   "attachments": {},
   "cell_type": "markdown",
   "metadata": {},
   "source": [
    "## 2.2 - Data Cleaning (Pipeline Execution)"
   ]
  },
  {
   "cell_type": "code",
   "execution_count": 139,
   "metadata": {},
   "outputs": [
    {
     "name": "stdout",
     "output_type": "stream",
     "text": [
      "[Pipeline] . (step 1 of 3) Processing lowercase_speaker, total=   0.0s\n",
      "[Pipeline]  (step 2 of 3) Processing connect_orphaned_lines_top10, total=   0.2s\n",
      "[Pipeline]  (step 3 of 3) Processing remove_episode_s6e21, total=   0.0s\n"
     ]
    },
    {
     "data": {
      "text/html": [
       "<div>\n",
       "<style scoped>\n",
       "    .dataframe tbody tr th:only-of-type {\n",
       "        vertical-align: middle;\n",
       "    }\n",
       "\n",
       "    .dataframe tbody tr th {\n",
       "        vertical-align: top;\n",
       "    }\n",
       "\n",
       "    .dataframe thead th {\n",
       "        text-align: right;\n",
       "    }\n",
       "</style>\n",
       "<table border=\"1\" class=\"dataframe\">\n",
       "  <thead>\n",
       "    <tr style=\"text-align: right;\">\n",
       "      <th></th>\n",
       "      <th>season</th>\n",
       "      <th>episode</th>\n",
       "      <th>title</th>\n",
       "      <th>scene</th>\n",
       "      <th>speaker</th>\n",
       "      <th>line</th>\n",
       "    </tr>\n",
       "  </thead>\n",
       "  <tbody>\n",
       "    <tr>\n",
       "      <th>0</th>\n",
       "      <td>1</td>\n",
       "      <td>1</td>\n",
       "      <td>Pilot</td>\n",
       "      <td>1</td>\n",
       "      <td>michael</td>\n",
       "      <td>All right Jim. Your quarterlies look very good...</td>\n",
       "    </tr>\n",
       "    <tr>\n",
       "      <th>1</th>\n",
       "      <td>1</td>\n",
       "      <td>1</td>\n",
       "      <td>Pilot</td>\n",
       "      <td>1</td>\n",
       "      <td>jim</td>\n",
       "      <td>Oh, I told you. I couldn't close it. So...</td>\n",
       "    </tr>\n",
       "    <tr>\n",
       "      <th>2</th>\n",
       "      <td>1</td>\n",
       "      <td>1</td>\n",
       "      <td>Pilot</td>\n",
       "      <td>1</td>\n",
       "      <td>michael</td>\n",
       "      <td>So you've come to the master for guidance? Is ...</td>\n",
       "    </tr>\n",
       "    <tr>\n",
       "      <th>3</th>\n",
       "      <td>1</td>\n",
       "      <td>1</td>\n",
       "      <td>Pilot</td>\n",
       "      <td>1</td>\n",
       "      <td>jim</td>\n",
       "      <td>Actually, you called me in here, but yeah.</td>\n",
       "    </tr>\n",
       "    <tr>\n",
       "      <th>4</th>\n",
       "      <td>1</td>\n",
       "      <td>1</td>\n",
       "      <td>Pilot</td>\n",
       "      <td>1</td>\n",
       "      <td>michael</td>\n",
       "      <td>All right. Well, let me show you how it's done.</td>\n",
       "    </tr>\n",
       "  </tbody>\n",
       "</table>\n",
       "</div>"
      ],
      "text/plain": [
       "   season  episode  title  scene  speaker  \\\n",
       "0       1        1  Pilot      1  michael   \n",
       "1       1        1  Pilot      1      jim   \n",
       "2       1        1  Pilot      1  michael   \n",
       "3       1        1  Pilot      1      jim   \n",
       "4       1        1  Pilot      1  michael   \n",
       "\n",
       "                                                line  \n",
       "0  All right Jim. Your quarterlies look very good...  \n",
       "1         Oh, I told you. I couldn't close it. So...  \n",
       "2  So you've come to the master for guidance? Is ...  \n",
       "3         Actually, you called me in here, but yeah.  \n",
       "4    All right. Well, let me show you how it's done.  "
      ]
     },
     "execution_count": 139,
     "metadata": {},
     "output_type": "execute_result"
    }
   ],
   "source": [
    "# note: no 'fit' functionality, but with fit_transform and verbose=True this\n",
    "#   prints some nice output of the pipeline steps\n",
    "script_df_cleaned = data_cleaning_pipeline.fit_transform(script_df)\n",
    "\n",
    "script_df_cleaned.head()"
   ]
  },
  {
   "attachments": {},
   "cell_type": "markdown",
   "metadata": {},
   "source": [
    "Check our results:"
   ]
  },
  {
   "cell_type": "code",
   "execution_count": 140,
   "metadata": {},
   "outputs": [
    {
     "data": {
      "text/plain": [
       "michael    10774\n",
       "dwight      6752\n",
       "jim         6223\n",
       "pam         4973\n",
       "andy        3698\n",
       "kevin       1535\n",
       "angela      1534\n",
       "erin        1413\n",
       "oscar       1336\n",
       "ryan        1182\n",
       "Name: speaker, dtype: int64"
      ]
     },
     "execution_count": 140,
     "metadata": {},
     "output_type": "execute_result"
    }
   ],
   "source": [
    "# looking for all lowercase values and dwight=6752\n",
    "script_df_cleaned['speaker'].value_counts().nlargest(10)"
   ]
  },
  {
   "cell_type": "code",
   "execution_count": 141,
   "metadata": {},
   "outputs": [
    {
     "data": {
      "text/plain": [
       "array([ 1,  2,  3,  4,  6,  7,  8,  9, 10, 11, 12, 13, 14, 15, 16, 17, 19,\n",
       "       20, 22, 23, 24, 25, 26], dtype=int64)"
      ]
     },
     "execution_count": 141,
     "metadata": {},
     "output_type": "execute_result"
    }
   ],
   "source": [
    "# looking for no \"21\" value in this list\n",
    "script_df_cleaned.loc[script_df['season'] == 6, 'episode'].unique()"
   ]
  }
 ],
 "metadata": {
  "kernelspec": {
   "display_name": "ds_env",
   "language": "python",
   "name": "python3"
  },
  "language_info": {
   "codemirror_mode": {
    "name": "ipython",
    "version": 3
   },
   "file_extension": ".py",
   "mimetype": "text/x-python",
   "name": "python",
   "nbconvert_exporter": "python",
   "pygments_lexer": "ipython3",
   "version": "3.11.2"
  },
  "orig_nbformat": 4
 },
 "nbformat": 4,
 "nbformat_minor": 2
}
