{
 "cells": [
  {
   "attachments": {},
   "cell_type": "markdown",
   "metadata": {},
   "source": [
    "# `01_preprocess.ipynb`"
   ]
  },
  {
   "attachments": {},
   "cell_type": "markdown",
   "metadata": {},
   "source": [
    "## 0.1 - Setup"
   ]
  },
  {
   "attachments": {},
   "cell_type": "markdown",
   "metadata": {},
   "source": [
    "### 0.1.1 - Package Imports"
   ]
  },
  {
   "cell_type": "code",
   "execution_count": 138,
   "metadata": {},
   "outputs": [],
   "source": [
    "# imports from python standard library\n",
    "import re\n",
    "from pathlib import Path\n",
    "\n",
    "# data science packages\n",
    "import matplotlib.pyplot as plt\n",
    "import pandas as pd\n",
    "import plotly.express as px\n",
    "import seaborn as sns\n",
    "\n",
    "# huggingface packages"
   ]
  },
  {
   "attachments": {},
   "cell_type": "markdown",
   "metadata": {},
   "source": [
    "### 0.1.2- Constants"
   ]
  },
  {
   "cell_type": "code",
   "execution_count": 8,
   "metadata": {},
   "outputs": [],
   "source": [
    "DATA_DIR = Path(\"./data\")\n",
    "DATA_DIR_RAW = DATA_DIR / \"raw\"\n",
    "TRANSCRIPT_DATA = DATA_DIR_RAW / \"transcript/The-Office-Lines-V4.csv\""
   ]
  },
  {
   "attachments": {},
   "cell_type": "markdown",
   "metadata": {},
   "source": [
    "### 0.1.3 - Options"
   ]
  },
  {
   "cell_type": "code",
   "execution_count": 137,
   "metadata": {},
   "outputs": [],
   "source": [
    "# set plotting backend for Pandas\n",
    "pd.set_option('plotting.backend', 'plotly')"
   ]
  },
  {
   "attachments": {},
   "cell_type": "markdown",
   "metadata": {},
   "source": [
    "## 0.2 Import Data"
   ]
  },
  {
   "cell_type": "code",
   "execution_count": 12,
   "metadata": {},
   "outputs": [
    {
     "data": {
      "text/html": [
       "<div>\n",
       "<style scoped>\n",
       "    .dataframe tbody tr th:only-of-type {\n",
       "        vertical-align: middle;\n",
       "    }\n",
       "\n",
       "    .dataframe tbody tr th {\n",
       "        vertical-align: top;\n",
       "    }\n",
       "\n",
       "    .dataframe thead th {\n",
       "        text-align: right;\n",
       "    }\n",
       "</style>\n",
       "<table border=\"1\" class=\"dataframe\">\n",
       "  <thead>\n",
       "    <tr style=\"text-align: right;\">\n",
       "      <th></th>\n",
       "      <th>season</th>\n",
       "      <th>episode</th>\n",
       "      <th>title</th>\n",
       "      <th>scene</th>\n",
       "      <th>speaker</th>\n",
       "      <th>line</th>\n",
       "    </tr>\n",
       "  </thead>\n",
       "  <tbody>\n",
       "    <tr>\n",
       "      <th>23580</th>\n",
       "      <td>5</td>\n",
       "      <td>20</td>\n",
       "      <td>New Boss</td>\n",
       "      <td>3750</td>\n",
       "      <td>Charles</td>\n",
       "      <td>Sp-Well, um, Michael should have filled you in...</td>\n",
       "    </tr>\n",
       "    <tr>\n",
       "      <th>44289</th>\n",
       "      <td>8</td>\n",
       "      <td>13</td>\n",
       "      <td>Jury Duty</td>\n",
       "      <td>6606</td>\n",
       "      <td>Dwight</td>\n",
       "      <td>That's good enough for me.</td>\n",
       "    </tr>\n",
       "    <tr>\n",
       "      <th>14404</th>\n",
       "      <td>4</td>\n",
       "      <td>3</td>\n",
       "      <td>Dunder Mifflin Infinity (Parts 1&amp;2)</td>\n",
       "      <td>2448</td>\n",
       "      <td>Angela</td>\n",
       "      <td>Elevators.</td>\n",
       "    </tr>\n",
       "    <tr>\n",
       "      <th>18864</th>\n",
       "      <td>5</td>\n",
       "      <td>3</td>\n",
       "      <td>Business Ethics</td>\n",
       "      <td>3155</td>\n",
       "      <td>Jim</td>\n",
       "      <td>To get married.</td>\n",
       "    </tr>\n",
       "    <tr>\n",
       "      <th>7915</th>\n",
       "      <td>3</td>\n",
       "      <td>3</td>\n",
       "      <td>The Coup</td>\n",
       "      <td>1352</td>\n",
       "      <td>Michael</td>\n",
       "      <td>Dwight, can I talk to you for a second?</td>\n",
       "    </tr>\n",
       "    <tr>\n",
       "      <th>35476</th>\n",
       "      <td>7</td>\n",
       "      <td>7</td>\n",
       "      <td>Christening</td>\n",
       "      <td>5389</td>\n",
       "      <td>Andy</td>\n",
       "      <td>What if the moon was your car and Jupiter was ...</td>\n",
       "    </tr>\n",
       "    <tr>\n",
       "      <th>28104</th>\n",
       "      <td>6</td>\n",
       "      <td>7</td>\n",
       "      <td>The Lover</td>\n",
       "      <td>4320</td>\n",
       "      <td>Dwight</td>\n",
       "      <td>Punishment fits the crime, I accept.</td>\n",
       "    </tr>\n",
       "    <tr>\n",
       "      <th>2688</th>\n",
       "      <td>2</td>\n",
       "      <td>5</td>\n",
       "      <td>Halloween</td>\n",
       "      <td>435</td>\n",
       "      <td>Dwight</td>\n",
       "      <td>Wait, what are you again? Oh, right... Three-h...</td>\n",
       "    </tr>\n",
       "    <tr>\n",
       "      <th>8002</th>\n",
       "      <td>3</td>\n",
       "      <td>3</td>\n",
       "      <td>The Coup</td>\n",
       "      <td>1365</td>\n",
       "      <td>Dwight</td>\n",
       "      <td>I'll do anything! Anything! I'll do your laun...</td>\n",
       "    </tr>\n",
       "    <tr>\n",
       "      <th>50034</th>\n",
       "      <td>9</td>\n",
       "      <td>9</td>\n",
       "      <td>Dwight Christmas</td>\n",
       "      <td>7432</td>\n",
       "      <td>Dwight</td>\n",
       "      <td>They're not abandoning the party.</td>\n",
       "    </tr>\n",
       "    <tr>\n",
       "      <th>47816</th>\n",
       "      <td>9</td>\n",
       "      <td>2</td>\n",
       "      <td>Roy's Wedding</td>\n",
       "      <td>7111</td>\n",
       "      <td>Kevin</td>\n",
       "      <td>Oh, yeah! Can I spin first?</td>\n",
       "    </tr>\n",
       "    <tr>\n",
       "      <th>31937</th>\n",
       "      <td>6</td>\n",
       "      <td>21</td>\n",
       "      <td>Happy Hour</td>\n",
       "      <td>4872</td>\n",
       "      <td>Jim:</td>\n",
       "      <td>what do you think?</td>\n",
       "    </tr>\n",
       "    <tr>\n",
       "      <th>32208</th>\n",
       "      <td>6</td>\n",
       "      <td>22</td>\n",
       "      <td>Secretary's Day</td>\n",
       "      <td>4907</td>\n",
       "      <td>Meredith</td>\n",
       "      <td>Have a cookie, Kev.</td>\n",
       "    </tr>\n",
       "    <tr>\n",
       "      <th>26286</th>\n",
       "      <td>6</td>\n",
       "      <td>1</td>\n",
       "      <td>Gossip</td>\n",
       "      <td>4117</td>\n",
       "      <td>Michael</td>\n",
       "      <td>The one true rumor, and this is going to ruin...</td>\n",
       "    </tr>\n",
       "    <tr>\n",
       "      <th>36156</th>\n",
       "      <td>7</td>\n",
       "      <td>9</td>\n",
       "      <td>WUPHF.com</td>\n",
       "      <td>5477</td>\n",
       "      <td>Ryan</td>\n",
       "      <td>We totally should.</td>\n",
       "    </tr>\n",
       "    <tr>\n",
       "      <th>36054</th>\n",
       "      <td>7</td>\n",
       "      <td>9</td>\n",
       "      <td>WUPHF.com</td>\n",
       "      <td>5469</td>\n",
       "      <td>Dwight</td>\n",
       "      <td>Hey, congratulations! Do you know what your pr...</td>\n",
       "    </tr>\n",
       "    <tr>\n",
       "      <th>31175</th>\n",
       "      <td>6</td>\n",
       "      <td>17</td>\n",
       "      <td>The Delivery (Parts 1&amp;2)</td>\n",
       "      <td>4757</td>\n",
       "      <td>Jim</td>\n",
       "      <td>Yes, car seat's right there.</td>\n",
       "    </tr>\n",
       "    <tr>\n",
       "      <th>1827</th>\n",
       "      <td>2</td>\n",
       "      <td>2</td>\n",
       "      <td>Sexual Harassment</td>\n",
       "      <td>300</td>\n",
       "      <td>Darryl</td>\n",
       "      <td>Man, we can see all your business coming aroun...</td>\n",
       "    </tr>\n",
       "    <tr>\n",
       "      <th>3109</th>\n",
       "      <td>2</td>\n",
       "      <td>6</td>\n",
       "      <td>The Fight</td>\n",
       "      <td>497</td>\n",
       "      <td>Kevin</td>\n",
       "      <td>Later Jim.</td>\n",
       "    </tr>\n",
       "    <tr>\n",
       "      <th>53464</th>\n",
       "      <td>9</td>\n",
       "      <td>21</td>\n",
       "      <td>Livin' the Dream</td>\n",
       "      <td>7956</td>\n",
       "      <td>Pam</td>\n",
       "      <td>They are.</td>\n",
       "    </tr>\n",
       "  </tbody>\n",
       "</table>\n",
       "</div>"
      ],
      "text/plain": [
       "       season  episode                                title  scene   speaker  \\\n",
       "23580       5       20                             New Boss   3750   Charles   \n",
       "44289       8       13                            Jury Duty   6606    Dwight   \n",
       "14404       4        3  Dunder Mifflin Infinity (Parts 1&2)   2448    Angela   \n",
       "18864       5        3                      Business Ethics   3155       Jim   \n",
       "7915        3        3                             The Coup   1352   Michael   \n",
       "35476       7        7                          Christening   5389      Andy   \n",
       "28104       6        7                            The Lover   4320    Dwight   \n",
       "2688        2        5                            Halloween    435    Dwight   \n",
       "8002        3        3                             The Coup   1365    Dwight   \n",
       "50034       9        9                     Dwight Christmas   7432    Dwight   \n",
       "47816       9        2                        Roy's Wedding   7111     Kevin   \n",
       "31937       6       21                           Happy Hour   4872     Jim:    \n",
       "32208       6       22                      Secretary's Day   4907  Meredith   \n",
       "26286       6        1                               Gossip   4117   Michael   \n",
       "36156       7        9                            WUPHF.com   5477      Ryan   \n",
       "36054       7        9                            WUPHF.com   5469    Dwight   \n",
       "31175       6       17             The Delivery (Parts 1&2)   4757       Jim   \n",
       "1827        2        2                    Sexual Harassment    300    Darryl   \n",
       "3109        2        6                            The Fight    497     Kevin   \n",
       "53464       9       21                     Livin' the Dream   7956       Pam   \n",
       "\n",
       "                                                    line  \n",
       "23580  Sp-Well, um, Michael should have filled you in...  \n",
       "44289                        That's good enough for me.   \n",
       "14404                                         Elevators.  \n",
       "18864                                    To get married.  \n",
       "7915             Dwight, can I talk to you for a second?  \n",
       "35476  What if the moon was your car and Jupiter was ...  \n",
       "28104              Punishment fits the crime, I accept.   \n",
       "2688   Wait, what are you again? Oh, right... Three-h...  \n",
       "8002    I'll do anything! Anything! I'll do your laun...  \n",
       "50034                 They're not abandoning the party.   \n",
       "47816                        Oh, yeah! Can I spin first?  \n",
       "31937                                 what do you think?  \n",
       "32208                                Have a cookie, Kev.  \n",
       "26286   The one true rumor, and this is going to ruin...  \n",
       "36156                                 We totally should.  \n",
       "36054  Hey, congratulations! Do you know what your pr...  \n",
       "31175                       Yes, car seat's right there.  \n",
       "1827   Man, we can see all your business coming aroun...  \n",
       "3109                                          Later Jim.  \n",
       "53464                                          They are.  "
      ]
     },
     "execution_count": 12,
     "metadata": {},
     "output_type": "execute_result"
    }
   ],
   "source": [
    "script_df = pd.read_csv(\n",
    "    filepath_or_buffer=TRANSCRIPT_DATA,\n",
    "    header=0,\n",
    "    usecols=['season', 'episode', 'title', 'scene', 'speaker', 'line']\n",
    "    )\n",
    "\n",
    "script_df.sample(20)"
   ]
  },
  {
   "attachments": {},
   "cell_type": "markdown",
   "metadata": {},
   "source": [
    "# 1 - EDA"
   ]
  },
  {
   "attachments": {},
   "cell_type": "markdown",
   "metadata": {},
   "source": [
    "## 1.1 - Speaker Frequency"
   ]
  },
  {
   "cell_type": "code",
   "execution_count": 21,
   "metadata": {},
   "outputs": [
    {
     "data": {
      "text/plain": [
       "Michael    0.197214\n",
       "Dwight     0.123604\n",
       "Jim        0.113902\n",
       "Pam        0.091037\n",
       "Andy       0.067697\n",
       "Kevin      0.028100\n",
       "Angela     0.028082\n",
       "Erin       0.025867\n",
       "Oscar      0.024457\n",
       "Ryan       0.021638\n",
       "Name: speaker, dtype: float64"
      ]
     },
     "execution_count": 21,
     "metadata": {},
     "output_type": "execute_result"
    }
   ],
   "source": [
    "# no filtering for seasons\n",
    "script_df['speaker'].value_counts(normalize=True).nlargest(10)"
   ]
  },
  {
   "cell_type": "code",
   "execution_count": 258,
   "metadata": {},
   "outputs": [],
   "source": [
    "top_10_speaker_list = script_df['speaker'].value_counts(normalize=True).nlargest(10).index.tolist()\n",
    "top_10_speaker_df = script_df.loc[script_df['speaker'].isin(top_10_speaker_list)]\n",
    "\n",
    "top_10_speaker_df = top_10_speaker_df.astype({'season': str})\n",
    "\n",
    "top_10_groupedby_season = top_10_speaker_df.groupby(by=['season'])['speaker'].value_counts(normalize=True).unstack('speaker')\n",
    "top_10_groupedby_speaker = top_10_speaker_df.groupby(by=['speaker'])['season'].value_counts(normalize=True).unstack('season')"
   ]
  },
  {
   "attachments": {},
   "cell_type": "markdown",
   "metadata": {},
   "source": [
    "Across all nine seasons, Michael has the highest proportion of individual utterances."
   ]
  },
  {
   "cell_type": "code",
   "execution_count": 259,
   "metadata": {},
   "outputs": [
    {
     "data": {
      "application/vnd.plotly.v1+json": {
       "config": {
        "plotlyServerURL": "https://plot.ly"
       },
       "data": [
        {
         "alignmentgroup": "True",
         "hovertemplate": "speaker=Andy<br>value=%{x}<br>season=%{y}<extra></extra>",
         "legendgroup": "Andy",
         "marker": {
          "color": "rgb(228,26,28)",
          "pattern": {
           "shape": ""
          }
         },
         "name": "Andy",
         "offsetgroup": "Andy",
         "orientation": "h",
         "showlegend": true,
         "textposition": "auto",
         "type": "bar",
         "x": [
          null,
          null,
          0.06469700237222342,
          0.05067848241484353,
          0.08153846153846153,
          0.08903500977430247,
          0.10952096998608626,
          0.23933378964179786,
          0.13978494623655913
         ],
         "xaxis": "x",
         "y": [
          "1",
          "2",
          "3",
          "4",
          "5",
          "6",
          "7",
          "8",
          "9"
         ],
         "yaxis": "y"
        },
        {
         "alignmentgroup": "True",
         "hovertemplate": "speaker=Angela<br>value=%{x}<br>season=%{y}<extra></extra>",
         "legendgroup": "Angela",
         "marker": {
          "color": "rgb(55,126,184)",
          "pattern": {
           "shape": ""
          }
         },
         "name": "Angela",
         "offsetgroup": "Angela",
         "orientation": "h",
         "showlegend": true,
         "textposition": "auto",
         "type": "bar",
         "x": [
          0.018976897689768978,
          0.029046563192904655,
          0.042268708216519305,
          0.045970645250623096,
          0.035213675213675216,
          0.021148036253776436,
          0.031405287219240706,
          0.03559206023271732,
          0.08316875137151634
         ],
         "xaxis": "x",
         "y": [
          "1",
          "2",
          "3",
          "4",
          "5",
          "6",
          "7",
          "8",
          "9"
         ],
         "yaxis": "y"
        },
        {
         "alignmentgroup": "True",
         "hovertemplate": "speaker=Dwight<br>value=%{x}<br>season=%{y}<extra></extra>",
         "legendgroup": "Dwight",
         "marker": {
          "color": "rgb(77,175,74)",
          "pattern": {
           "shape": ""
          }
         },
         "name": "Dwight",
         "offsetgroup": "Dwight",
         "orientation": "h",
         "showlegend": true,
         "textposition": "auto",
         "type": "bar",
         "x": [
          0.1716171617161716,
          0.18070953436807094,
          0.17425059305585508,
          0.13043478260869565,
          0.1752136752136752,
          0.13755109294473075,
          0.1379447425959054,
          0.20465434633812457,
          0.2326091727013386
         ],
         "xaxis": "x",
         "y": [
          "1",
          "2",
          "3",
          "4",
          "5",
          "6",
          "7",
          "8",
          "9"
         ],
         "yaxis": "y"
        },
        {
         "alignmentgroup": "True",
         "hovertemplate": "speaker=Erin<br>value=%{x}<br>season=%{y}<extra></extra>",
         "legendgroup": "Erin",
         "marker": {
          "color": "rgb(152,78,163)",
          "pattern": {
           "shape": ""
          }
         },
         "name": "Erin",
         "offsetgroup": "Erin",
         "orientation": "h",
         "showlegend": true,
         "textposition": "auto",
         "type": "bar",
         "x": [
          null,
          null,
          null,
          null,
          0.00905982905982906,
          0.04958237071263551,
          0.06122043331345657,
          0.09034907597535935,
          0.08272986614000438
         ],
         "xaxis": "x",
         "y": [
          "1",
          "2",
          "3",
          "4",
          "5",
          "6",
          "7",
          "8",
          "9"
         ],
         "yaxis": "y"
        },
        {
         "alignmentgroup": "True",
         "hovertemplate": "speaker=Jim<br>value=%{x}<br>season=%{y}<extra></extra>",
         "legendgroup": "Jim",
         "marker": {
          "color": "rgb(255,127,0)",
          "pattern": {
           "shape": ""
          }
         },
         "name": "Jim",
         "offsetgroup": "Jim",
         "orientation": "h",
         "showlegend": true,
         "textposition": "auto",
         "type": "bar",
         "x": [
          0.18811881188118812,
          0.16496674057649668,
          0.1466465387103731,
          0.15895873719191358,
          0.14239316239316238,
          0.15781055624666784,
          0.1343669250645995,
          0.18320784850558977,
          0.17467632214175993
         ],
         "xaxis": "x",
         "y": [
          "1",
          "2",
          "3",
          "4",
          "5",
          "6",
          "7",
          "8",
          "9"
         ],
         "yaxis": "y"
        },
        {
         "alignmentgroup": "True",
         "hovertemplate": "speaker=Kevin<br>value=%{x}<br>season=%{y}<extra></extra>",
         "legendgroup": "Kevin",
         "marker": {
          "color": "rgb(255,255,51)",
          "pattern": {
           "shape": ""
          }
         },
         "name": "Kevin",
         "offsetgroup": "Kevin",
         "orientation": "h",
         "showlegend": true,
         "textposition": "auto",
         "type": "bar",
         "x": [
          0.018976897689768978,
          0.025942350332594236,
          0.03472072460642657,
          0.03461644973691498,
          0.02666666666666667,
          0.039097209880931225,
          0.04770423375074538,
          0.05201916495550993,
          0.05815229317533465
         ],
         "xaxis": "x",
         "y": [
          "1",
          "2",
          "3",
          "4",
          "5",
          "6",
          "7",
          "8",
          "9"
         ],
         "yaxis": "y"
        },
        {
         "alignmentgroup": "True",
         "hovertemplate": "speaker=Michael<br>value=%{x}<br>season=%{y}<extra></extra>",
         "legendgroup": "Michael",
         "marker": {
          "color": "rgb(166,86,40)",
          "pattern": {
           "shape": ""
          }
         },
         "name": "Michael",
         "offsetgroup": "Michael",
         "orientation": "h",
         "showlegend": true,
         "textposition": "auto",
         "type": "bar",
         "x": [
          0.4034653465346535,
          0.4073170731707317,
          0.3666163467759327,
          0.3805040155081695,
          0.35128205128205126,
          0.33694686333748003,
          0.28225004969191014,
          null,
          0.00043888523151195964
         ],
         "xaxis": "x",
         "y": [
          "1",
          "2",
          "3",
          "4",
          "5",
          "6",
          "7",
          "8",
          "9"
         ],
         "yaxis": "y"
        },
        {
         "alignmentgroup": "True",
         "hovertemplate": "speaker=Oscar<br>value=%{x}<br>season=%{y}<extra></extra>",
         "legendgroup": "Oscar",
         "marker": {
          "color": "rgb(247,129,191)",
          "pattern": {
           "shape": ""
          }
         },
         "name": "Oscar",
         "offsetgroup": "Oscar",
         "orientation": "h",
         "showlegend": true,
         "textposition": "auto",
         "type": "bar",
         "x": [
          0.034653465346534656,
          0.020399113082039913,
          0.012723743799870606,
          0.022154527831625588,
          0.03333333333333333,
          0.027723476097387595,
          0.03895845756310873,
          0.05065023956194387,
          0.06451612903225806
         ],
         "xaxis": "x",
         "y": [
          "1",
          "2",
          "3",
          "4",
          "5",
          "6",
          "7",
          "8",
          "9"
         ],
         "yaxis": "y"
        },
        {
         "alignmentgroup": "True",
         "hovertemplate": "speaker=Pam<br>value=%{x}<br>season=%{y}<extra></extra>",
         "legendgroup": "Pam",
         "marker": {
          "color": "rgb(153,153,153)",
          "pattern": {
           "shape": ""
          }
         },
         "name": "Pam",
         "offsetgroup": "Pam",
         "orientation": "h",
         "showlegend": true,
         "textposition": "auto",
         "type": "bar",
         "x": [
          0.13366336633663367,
          0.13547671840354766,
          0.1278844080224283,
          0.12101910828025478,
          0.11897435897435897,
          0.11977963390794384,
          0.12184456370502882,
          0.10403832991101986,
          0.16041255211762123
         ],
         "xaxis": "x",
         "y": [
          "1",
          "2",
          "3",
          "4",
          "5",
          "6",
          "7",
          "8",
          "9"
         ],
         "yaxis": "y"
        },
        {
         "alignmentgroup": "True",
         "hovertemplate": "speaker=Ryan<br>value=%{x}<br>season=%{y}<extra></extra>",
         "legendgroup": "Ryan",
         "marker": {
          "color": "rgb(228,26,28)",
          "pattern": {
           "shape": ""
          }
         },
         "name": "Ryan",
         "offsetgroup": "Ryan",
         "orientation": "h",
         "showlegend": true,
         "textposition": "auto",
         "type": "bar",
         "x": [
          0.03052805280528053,
          0.03614190687361419,
          0.03019193444037093,
          0.05566325117695929,
          0.026324786324786326,
          0.021325750844144304,
          0.0347843371099185,
          0.04015514487793748,
          0.003511081852095677
         ],
         "xaxis": "x",
         "y": [
          "1",
          "2",
          "3",
          "4",
          "5",
          "6",
          "7",
          "8",
          "9"
         ],
         "yaxis": "y"
        }
       ],
       "layout": {
        "barmode": "relative",
        "font": {
         "color": "black",
         "family": "Open Sans, Arial"
        },
        "height": 500,
        "legend": {
         "title": {
          "font": {
           "size": 16
          },
          "text": "Speaker"
         },
         "tracegroupgap": 0
        },
        "margin": {
         "b": 110,
         "l": 110,
         "r": 110,
         "t": 110
        },
        "template": {
         "data": {
          "bar": [
           {
            "error_x": {
             "color": "#2a3f5f"
            },
            "error_y": {
             "color": "#2a3f5f"
            },
            "marker": {
             "line": {
              "color": "white",
              "width": 0.5
             },
             "pattern": {
              "fillmode": "overlay",
              "size": 10,
              "solidity": 0.2
             }
            },
            "type": "bar"
           }
          ],
          "barpolar": [
           {
            "marker": {
             "line": {
              "color": "white",
              "width": 0.5
             },
             "pattern": {
              "fillmode": "overlay",
              "size": 10,
              "solidity": 0.2
             }
            },
            "type": "barpolar"
           }
          ],
          "carpet": [
           {
            "aaxis": {
             "endlinecolor": "#2a3f5f",
             "gridcolor": "#C8D4E3",
             "linecolor": "#C8D4E3",
             "minorgridcolor": "#C8D4E3",
             "startlinecolor": "#2a3f5f"
            },
            "baxis": {
             "endlinecolor": "#2a3f5f",
             "gridcolor": "#C8D4E3",
             "linecolor": "#C8D4E3",
             "minorgridcolor": "#C8D4E3",
             "startlinecolor": "#2a3f5f"
            },
            "type": "carpet"
           }
          ],
          "choropleth": [
           {
            "colorbar": {
             "outlinewidth": 0,
             "ticks": ""
            },
            "type": "choropleth"
           }
          ],
          "contour": [
           {
            "colorbar": {
             "outlinewidth": 0,
             "ticks": ""
            },
            "colorscale": [
             [
              0,
              "#0d0887"
             ],
             [
              0.1111111111111111,
              "#46039f"
             ],
             [
              0.2222222222222222,
              "#7201a8"
             ],
             [
              0.3333333333333333,
              "#9c179e"
             ],
             [
              0.4444444444444444,
              "#bd3786"
             ],
             [
              0.5555555555555556,
              "#d8576b"
             ],
             [
              0.6666666666666666,
              "#ed7953"
             ],
             [
              0.7777777777777778,
              "#fb9f3a"
             ],
             [
              0.8888888888888888,
              "#fdca26"
             ],
             [
              1,
              "#f0f921"
             ]
            ],
            "type": "contour"
           }
          ],
          "contourcarpet": [
           {
            "colorbar": {
             "outlinewidth": 0,
             "ticks": ""
            },
            "type": "contourcarpet"
           }
          ],
          "heatmap": [
           {
            "colorbar": {
             "outlinewidth": 0,
             "ticks": ""
            },
            "colorscale": [
             [
              0,
              "#0d0887"
             ],
             [
              0.1111111111111111,
              "#46039f"
             ],
             [
              0.2222222222222222,
              "#7201a8"
             ],
             [
              0.3333333333333333,
              "#9c179e"
             ],
             [
              0.4444444444444444,
              "#bd3786"
             ],
             [
              0.5555555555555556,
              "#d8576b"
             ],
             [
              0.6666666666666666,
              "#ed7953"
             ],
             [
              0.7777777777777778,
              "#fb9f3a"
             ],
             [
              0.8888888888888888,
              "#fdca26"
             ],
             [
              1,
              "#f0f921"
             ]
            ],
            "type": "heatmap"
           }
          ],
          "heatmapgl": [
           {
            "colorbar": {
             "outlinewidth": 0,
             "ticks": ""
            },
            "colorscale": [
             [
              0,
              "#0d0887"
             ],
             [
              0.1111111111111111,
              "#46039f"
             ],
             [
              0.2222222222222222,
              "#7201a8"
             ],
             [
              0.3333333333333333,
              "#9c179e"
             ],
             [
              0.4444444444444444,
              "#bd3786"
             ],
             [
              0.5555555555555556,
              "#d8576b"
             ],
             [
              0.6666666666666666,
              "#ed7953"
             ],
             [
              0.7777777777777778,
              "#fb9f3a"
             ],
             [
              0.8888888888888888,
              "#fdca26"
             ],
             [
              1,
              "#f0f921"
             ]
            ],
            "type": "heatmapgl"
           }
          ],
          "histogram": [
           {
            "marker": {
             "pattern": {
              "fillmode": "overlay",
              "size": 10,
              "solidity": 0.2
             }
            },
            "type": "histogram"
           }
          ],
          "histogram2d": [
           {
            "colorbar": {
             "outlinewidth": 0,
             "ticks": ""
            },
            "colorscale": [
             [
              0,
              "#0d0887"
             ],
             [
              0.1111111111111111,
              "#46039f"
             ],
             [
              0.2222222222222222,
              "#7201a8"
             ],
             [
              0.3333333333333333,
              "#9c179e"
             ],
             [
              0.4444444444444444,
              "#bd3786"
             ],
             [
              0.5555555555555556,
              "#d8576b"
             ],
             [
              0.6666666666666666,
              "#ed7953"
             ],
             [
              0.7777777777777778,
              "#fb9f3a"
             ],
             [
              0.8888888888888888,
              "#fdca26"
             ],
             [
              1,
              "#f0f921"
             ]
            ],
            "type": "histogram2d"
           }
          ],
          "histogram2dcontour": [
           {
            "colorbar": {
             "outlinewidth": 0,
             "ticks": ""
            },
            "colorscale": [
             [
              0,
              "#0d0887"
             ],
             [
              0.1111111111111111,
              "#46039f"
             ],
             [
              0.2222222222222222,
              "#7201a8"
             ],
             [
              0.3333333333333333,
              "#9c179e"
             ],
             [
              0.4444444444444444,
              "#bd3786"
             ],
             [
              0.5555555555555556,
              "#d8576b"
             ],
             [
              0.6666666666666666,
              "#ed7953"
             ],
             [
              0.7777777777777778,
              "#fb9f3a"
             ],
             [
              0.8888888888888888,
              "#fdca26"
             ],
             [
              1,
              "#f0f921"
             ]
            ],
            "type": "histogram2dcontour"
           }
          ],
          "mesh3d": [
           {
            "colorbar": {
             "outlinewidth": 0,
             "ticks": ""
            },
            "type": "mesh3d"
           }
          ],
          "parcoords": [
           {
            "line": {
             "colorbar": {
              "outlinewidth": 0,
              "ticks": ""
             }
            },
            "type": "parcoords"
           }
          ],
          "pie": [
           {
            "automargin": true,
            "type": "pie"
           }
          ],
          "scatter": [
           {
            "fillpattern": {
             "fillmode": "overlay",
             "size": 10,
             "solidity": 0.2
            },
            "type": "scatter"
           }
          ],
          "scatter3d": [
           {
            "line": {
             "colorbar": {
              "outlinewidth": 0,
              "ticks": ""
             }
            },
            "marker": {
             "colorbar": {
              "outlinewidth": 0,
              "ticks": ""
             }
            },
            "type": "scatter3d"
           }
          ],
          "scattercarpet": [
           {
            "marker": {
             "colorbar": {
              "outlinewidth": 0,
              "ticks": ""
             }
            },
            "type": "scattercarpet"
           }
          ],
          "scattergeo": [
           {
            "marker": {
             "colorbar": {
              "outlinewidth": 0,
              "ticks": ""
             }
            },
            "type": "scattergeo"
           }
          ],
          "scattergl": [
           {
            "marker": {
             "colorbar": {
              "outlinewidth": 0,
              "ticks": ""
             }
            },
            "type": "scattergl"
           }
          ],
          "scattermapbox": [
           {
            "marker": {
             "colorbar": {
              "outlinewidth": 0,
              "ticks": ""
             }
            },
            "type": "scattermapbox"
           }
          ],
          "scatterpolar": [
           {
            "marker": {
             "colorbar": {
              "outlinewidth": 0,
              "ticks": ""
             }
            },
            "type": "scatterpolar"
           }
          ],
          "scatterpolargl": [
           {
            "marker": {
             "colorbar": {
              "outlinewidth": 0,
              "ticks": ""
             }
            },
            "type": "scatterpolargl"
           }
          ],
          "scatterternary": [
           {
            "marker": {
             "colorbar": {
              "outlinewidth": 0,
              "ticks": ""
             }
            },
            "type": "scatterternary"
           }
          ],
          "surface": [
           {
            "colorbar": {
             "outlinewidth": 0,
             "ticks": ""
            },
            "colorscale": [
             [
              0,
              "#0d0887"
             ],
             [
              0.1111111111111111,
              "#46039f"
             ],
             [
              0.2222222222222222,
              "#7201a8"
             ],
             [
              0.3333333333333333,
              "#9c179e"
             ],
             [
              0.4444444444444444,
              "#bd3786"
             ],
             [
              0.5555555555555556,
              "#d8576b"
             ],
             [
              0.6666666666666666,
              "#ed7953"
             ],
             [
              0.7777777777777778,
              "#fb9f3a"
             ],
             [
              0.8888888888888888,
              "#fdca26"
             ],
             [
              1,
              "#f0f921"
             ]
            ],
            "type": "surface"
           }
          ],
          "table": [
           {
            "cells": {
             "fill": {
              "color": "#EBF0F8"
             },
             "line": {
              "color": "white"
             }
            },
            "header": {
             "fill": {
              "color": "#C8D4E3"
             },
             "line": {
              "color": "white"
             }
            },
            "type": "table"
           }
          ]
         },
         "layout": {
          "annotationdefaults": {
           "arrowcolor": "#2a3f5f",
           "arrowhead": 0,
           "arrowwidth": 1
          },
          "autotypenumbers": "strict",
          "coloraxis": {
           "colorbar": {
            "outlinewidth": 0,
            "ticks": ""
           }
          },
          "colorscale": {
           "diverging": [
            [
             0,
             "#8e0152"
            ],
            [
             0.1,
             "#c51b7d"
            ],
            [
             0.2,
             "#de77ae"
            ],
            [
             0.3,
             "#f1b6da"
            ],
            [
             0.4,
             "#fde0ef"
            ],
            [
             0.5,
             "#f7f7f7"
            ],
            [
             0.6,
             "#e6f5d0"
            ],
            [
             0.7,
             "#b8e186"
            ],
            [
             0.8,
             "#7fbc41"
            ],
            [
             0.9,
             "#4d9221"
            ],
            [
             1,
             "#276419"
            ]
           ],
           "sequential": [
            [
             0,
             "#0d0887"
            ],
            [
             0.1111111111111111,
             "#46039f"
            ],
            [
             0.2222222222222222,
             "#7201a8"
            ],
            [
             0.3333333333333333,
             "#9c179e"
            ],
            [
             0.4444444444444444,
             "#bd3786"
            ],
            [
             0.5555555555555556,
             "#d8576b"
            ],
            [
             0.6666666666666666,
             "#ed7953"
            ],
            [
             0.7777777777777778,
             "#fb9f3a"
            ],
            [
             0.8888888888888888,
             "#fdca26"
            ],
            [
             1,
             "#f0f921"
            ]
           ],
           "sequentialminus": [
            [
             0,
             "#0d0887"
            ],
            [
             0.1111111111111111,
             "#46039f"
            ],
            [
             0.2222222222222222,
             "#7201a8"
            ],
            [
             0.3333333333333333,
             "#9c179e"
            ],
            [
             0.4444444444444444,
             "#bd3786"
            ],
            [
             0.5555555555555556,
             "#d8576b"
            ],
            [
             0.6666666666666666,
             "#ed7953"
            ],
            [
             0.7777777777777778,
             "#fb9f3a"
            ],
            [
             0.8888888888888888,
             "#fdca26"
            ],
            [
             1,
             "#f0f921"
            ]
           ]
          },
          "colorway": [
           "#636efa",
           "#EF553B",
           "#00cc96",
           "#ab63fa",
           "#FFA15A",
           "#19d3f3",
           "#FF6692",
           "#B6E880",
           "#FF97FF",
           "#FECB52"
          ],
          "font": {
           "color": "#2a3f5f"
          },
          "geo": {
           "bgcolor": "white",
           "lakecolor": "white",
           "landcolor": "white",
           "showlakes": true,
           "showland": true,
           "subunitcolor": "#C8D4E3"
          },
          "hoverlabel": {
           "align": "left"
          },
          "hovermode": "closest",
          "mapbox": {
           "style": "light"
          },
          "paper_bgcolor": "white",
          "plot_bgcolor": "white",
          "polar": {
           "angularaxis": {
            "gridcolor": "#EBF0F8",
            "linecolor": "#EBF0F8",
            "ticks": ""
           },
           "bgcolor": "white",
           "radialaxis": {
            "gridcolor": "#EBF0F8",
            "linecolor": "#EBF0F8",
            "ticks": ""
           }
          },
          "scene": {
           "xaxis": {
            "backgroundcolor": "white",
            "gridcolor": "#DFE8F3",
            "gridwidth": 2,
            "linecolor": "#EBF0F8",
            "showbackground": true,
            "ticks": "",
            "zerolinecolor": "#EBF0F8"
           },
           "yaxis": {
            "backgroundcolor": "white",
            "gridcolor": "#DFE8F3",
            "gridwidth": 2,
            "linecolor": "#EBF0F8",
            "showbackground": true,
            "ticks": "",
            "zerolinecolor": "#EBF0F8"
           },
           "zaxis": {
            "backgroundcolor": "white",
            "gridcolor": "#DFE8F3",
            "gridwidth": 2,
            "linecolor": "#EBF0F8",
            "showbackground": true,
            "ticks": "",
            "zerolinecolor": "#EBF0F8"
           }
          },
          "shapedefaults": {
           "line": {
            "color": "#2a3f5f"
           }
          },
          "ternary": {
           "aaxis": {
            "gridcolor": "#DFE8F3",
            "linecolor": "#A2B1C6",
            "ticks": ""
           },
           "baxis": {
            "gridcolor": "#DFE8F3",
            "linecolor": "#A2B1C6",
            "ticks": ""
           },
           "bgcolor": "white",
           "caxis": {
            "gridcolor": "#DFE8F3",
            "linecolor": "#A2B1C6",
            "ticks": ""
           }
          },
          "title": {
           "x": 0.05
          },
          "xaxis": {
           "automargin": true,
           "gridcolor": "#EBF0F8",
           "linecolor": "#EBF0F8",
           "ticks": "",
           "title": {
            "standoff": 15
           },
           "zerolinecolor": "#EBF0F8",
           "zerolinewidth": 2
          },
          "yaxis": {
           "automargin": true,
           "gridcolor": "#EBF0F8",
           "linecolor": "#EBF0F8",
           "ticks": "",
           "title": {
            "standoff": 15
           },
           "zerolinecolor": "#EBF0F8",
           "zerolinewidth": 2
          }
         }
        },
        "title": {
         "font": {
          "size": 20
         },
         "text": "Distribution of Each Seasons' Speakers"
        },
        "width": 1000,
        "xaxis": {
         "anchor": "y",
         "domain": [
          0,
          1
         ],
         "title": {
          "font": {
           "size": 16
          },
          "text": "Frequency of utterances (normalized)"
         }
        },
        "yaxis": {
         "anchor": "x",
         "domain": [
          0,
          1
         ],
         "title": {
          "font": {
           "size": 16
          },
          "text": "Season #"
         }
        }
       }
      }
     },
     "metadata": {},
     "output_type": "display_data"
    }
   ],
   "source": [
    "title = \"Distribution of Each Seasons' Speakers\"\n",
    "hlabel = \"Frequency of utterances (normalized)\"\n",
    "vlabel = \"Season #\"\n",
    "legend_label = \"Speaker\"\n",
    "\n",
    "template = 'plotly_white'\n",
    "colormap = px.colors.qualitative.Set1\n",
    "\n",
    "width = 1000; height = 500; margin = 110\n",
    "\n",
    "fig = top_10_groupedby_season.plot.barh(color_discrete_sequence=colormap)\n",
    "\n",
    "fig.update_layout(\n",
    "    template=template,\n",
    "    title=dict(text=title, font=dict(size=20)),\n",
    "    xaxis_title=dict(text=hlabel, font=dict(size=16)),\n",
    "    yaxis_title=dict(text=vlabel, font=dict(size=16)),\n",
    "    legend_title=dict(text=legend_label, font=dict(size=16)),\n",
    "    margin=dict(l=margin, r=margin, t=margin, b=margin),\n",
    "    width=width, \n",
    "    height=height,\n",
    "    font=dict(family='Open Sans, Arial', color='black')\n",
    ")\n",
    "\n",
    "fig.show()"
   ]
  },
  {
   "attachments": {},
   "cell_type": "markdown",
   "metadata": {},
   "source": [
    "That's one view of per-season speakers, albeit somewhat challenging to interpret given there are a different number of total utterances per season.\n",
    "\n",
    "What about each character's speaking per season:"
   ]
  },
  {
   "cell_type": "code",
   "execution_count": 251,
   "metadata": {},
   "outputs": [
    {
     "data": {
      "application/vnd.plotly.v1+json": {
       "config": {
        "plotlyServerURL": "https://plot.ly"
       },
       "data": [
        {
         "alignmentgroup": "True",
         "hovertemplate": "season=1<br>value=%{x}<br>speaker=%{y}<extra></extra>",
         "legendgroup": "1",
         "marker": {
          "color": "rgb(228,26,28)",
          "pattern": {
           "shape": ""
          }
         },
         "name": "1",
         "offsetgroup": "1",
         "orientation": "h",
         "showlegend": true,
         "textposition": "auto",
         "type": "bar",
         "x": [
          null,
          0.01499348109517601,
          0.030805687203791468,
          null,
          0.03664416586306654,
          0.01498371335504886,
          0.045391255917571705,
          0.03143712574850299,
          0.032575909913533076,
          0.031302876480541454
         ],
         "xaxis": "x",
         "y": [
          "Andy",
          "Angela",
          "Dwight",
          "Erin",
          "Jim",
          "Kevin",
          "Michael",
          "Oscar",
          "Pam",
          "Ryan"
         ],
         "yaxis": "y"
        },
        {
         "alignmentgroup": "True",
         "hovertemplate": "season=2<br>value=%{x}<br>speaker=%{y}<extra></extra>",
         "legendgroup": "2",
         "marker": {
          "color": "rgb(55,126,184)",
          "pattern": {
           "shape": ""
          }
         },
         "name": "2",
         "offsetgroup": "2",
         "orientation": "h",
         "showlegend": true,
         "textposition": "auto",
         "type": "bar",
         "x": [
          null,
          0.08539765319426336,
          0.12070497630331753,
          null,
          0.11957569913211186,
          0.0762214983713355,
          0.17051888981713542,
          0.0688622754491018,
          0.12286346269857229,
          0.13790186125211507
         ],
         "xaxis": "x",
         "y": [
          "Andy",
          "Angela",
          "Dwight",
          "Erin",
          "Jim",
          "Kevin",
          "Michael",
          "Oscar",
          "Pam",
          "Ryan"
         ],
         "yaxis": "y"
        },
        {
         "alignmentgroup": "True",
         "hovertemplate": "season=3<br>value=%{x}<br>speaker=%{y}<extra></extra>",
         "legendgroup": "3",
         "marker": {
          "color": "rgb(77,175,74)",
          "pattern": {
           "shape": ""
          }
         },
         "name": "3",
         "offsetgroup": "3",
         "orientation": "h",
         "showlegend": true,
         "textposition": "auto",
         "type": "bar",
         "x": [
          0.08112493239588967,
          0.12777053455019557,
          0.11966824644549763,
          null,
          0.1092896174863388,
          0.10488599348534201,
          0.1578019121878771,
          0.04416167664670659,
          0.11924391715262417,
          0.11844331641285956
         ],
         "xaxis": "x",
         "y": [
          "Andy",
          "Angela",
          "Dwight",
          "Erin",
          "Jim",
          "Kevin",
          "Michael",
          "Oscar",
          "Pam",
          "Ryan"
         ],
         "yaxis": "y"
        },
        {
         "alignmentgroup": "True",
         "hovertemplate": "season=4<br>value=%{x}<br>speaker=%{y}<extra></extra>",
         "legendgroup": "4",
         "marker": {
          "color": "rgb(152,78,163)",
          "pattern": {
           "shape": ""
          }
         },
         "name": "4",
         "offsetgroup": "4",
         "orientation": "h",
         "showlegend": true,
         "textposition": "auto",
         "type": "bar",
         "x": [
          0.0494862087614927,
          0.10821382007822686,
          0.06975710900473933,
          null,
          0.09225329476052717,
          0.08143322475570032,
          0.12754107490949596,
          0.059880239520958084,
          0.0878745224210738,
          0.1700507614213198
         ],
         "xaxis": "x",
         "y": [
          "Andy",
          "Angela",
          "Dwight",
          "Erin",
          "Jim",
          "Kevin",
          "Michael",
          "Oscar",
          "Pam",
          "Ryan"
         ],
         "yaxis": "y"
        },
        {
         "alignmentgroup": "True",
         "hovertemplate": "season=5<br>value=%{x}<br>speaker=%{y}<extra></extra>",
         "legendgroup": "5",
         "marker": {
          "color": "rgb(255,127,0)",
          "pattern": {
           "shape": ""
          }
         },
         "name": "5",
         "offsetgroup": "5",
         "orientation": "h",
         "showlegend": true,
         "textposition": "auto",
         "type": "bar",
         "x": [
          0.12898864250946457,
          0.13428943937418514,
          0.15180687203791468,
          0.03750884642604388,
          0.13387978142076504,
          0.10162866449511401,
          0.19075466443887495,
          0.14595808383233533,
          0.13995576110999397,
          0.13028764805414553
         ],
         "xaxis": "x",
         "y": [
          "Andy",
          "Angela",
          "Dwight",
          "Erin",
          "Jim",
          "Kevin",
          "Michael",
          "Oscar",
          "Pam",
          "Ryan"
         ],
         "yaxis": "y"
        },
        {
         "alignmentgroup": "True",
         "hovertemplate": "season=6<br>value=%{x}<br>speaker=%{y}<extra></extra>",
         "legendgroup": "6",
         "marker": {
          "color": "rgb(255,255,51)",
          "pattern": {
           "shape": ""
          }
         },
         "name": "6",
         "offsetgroup": "6",
         "orientation": "h",
         "showlegend": true,
         "textposition": "auto",
         "type": "bar",
         "x": [
          0.13547863710113575,
          0.07757496740547588,
          0.11463270142180094,
          0.19745222929936307,
          0.14271938283510124,
          0.14332247557003258,
          0.17599554441659704,
          0.11676646706586827,
          0.13553187210939072,
          0.10152284263959391
         ],
         "xaxis": "x",
         "y": [
          "Andy",
          "Angela",
          "Dwight",
          "Erin",
          "Jim",
          "Kevin",
          "Michael",
          "Oscar",
          "Pam",
          "Ryan"
         ],
         "yaxis": "y"
        },
        {
         "alignmentgroup": "True",
         "hovertemplate": "season=7<br>value=%{x}<br>speaker=%{y}<extra></extra>",
         "legendgroup": "7",
         "marker": {
          "color": "rgb(166,86,40)",
          "pattern": {
           "shape": ""
          }
         },
         "name": "7",
         "offsetgroup": "7",
         "orientation": "h",
         "showlegend": true,
         "textposition": "auto",
         "type": "bar",
         "x": [
          0.14899945916711735,
          0.10299869621903521,
          0.10278436018957346,
          0.21797593772116064,
          0.10864673738347798,
          0.1563517915309446,
          0.13181100900399145,
          0.1467065868263473,
          0.12326563442589986,
          0.14805414551607446
         ],
         "xaxis": "x",
         "y": [
          "Andy",
          "Angela",
          "Dwight",
          "Erin",
          "Jim",
          "Kevin",
          "Michael",
          "Oscar",
          "Pam",
          "Ryan"
         ],
         "yaxis": "y"
        },
        {
         "alignmentgroup": "True",
         "hovertemplate": "season=8<br>value=%{x}<br>speaker=%{y}<extra></extra>",
         "legendgroup": "8",
         "marker": {
          "color": "rgb(247,129,191)",
          "pattern": {
           "shape": ""
          }
         },
         "name": "8",
         "offsetgroup": "8",
         "orientation": "h",
         "showlegend": true,
         "textposition": "auto",
         "type": "bar",
         "x": [
          0.2836668469442942,
          0.1016949152542373,
          0.1328495260663507,
          0.2802547770700637,
          0.1290581806493089,
          0.1485342019543974,
          null,
          0.1661676646706587,
          0.0916951538306857,
          0.14890016920473773
         ],
         "xaxis": "x",
         "y": [
          "Andy",
          "Angela",
          "Dwight",
          "Erin",
          "Jim",
          "Kevin",
          "Michael",
          "Oscar",
          "Pam",
          "Ryan"
         ],
         "yaxis": "y"
        },
        {
         "alignmentgroup": "True",
         "hovertemplate": "season=9<br>value=%{x}<br>speaker=%{y}<extra></extra>",
         "legendgroup": "9",
         "marker": {
          "color": "rgb(153,153,153)",
          "pattern": {
           "shape": ""
          }
         },
         "name": "9",
         "offsetgroup": "9",
         "orientation": "h",
         "showlegend": true,
         "textposition": "auto",
         "type": "bar",
         "x": [
          0.17225527312060573,
          0.2470664928292047,
          0.15699052132701422,
          0.2668082094833687,
          0.1279331404693025,
          0.17263843648208468,
          0.000185649308456326,
          0.22005988023952097,
          0.14699376633822642,
          0.01353637901861252
         ],
         "xaxis": "x",
         "y": [
          "Andy",
          "Angela",
          "Dwight",
          "Erin",
          "Jim",
          "Kevin",
          "Michael",
          "Oscar",
          "Pam",
          "Ryan"
         ],
         "yaxis": "y"
        }
       ],
       "layout": {
        "barmode": "relative",
        "font": {
         "color": "black",
         "family": "Open Sans, Arial"
        },
        "height": 500,
        "legend": {
         "title": {
          "font": {
           "size": 16
          },
          "text": "Season #"
         },
         "tracegroupgap": 0
        },
        "margin": {
         "b": 110,
         "l": 110,
         "r": 110,
         "t": 110
        },
        "template": {
         "data": {
          "bar": [
           {
            "error_x": {
             "color": "#2a3f5f"
            },
            "error_y": {
             "color": "#2a3f5f"
            },
            "marker": {
             "line": {
              "color": "white",
              "width": 0.5
             },
             "pattern": {
              "fillmode": "overlay",
              "size": 10,
              "solidity": 0.2
             }
            },
            "type": "bar"
           }
          ],
          "barpolar": [
           {
            "marker": {
             "line": {
              "color": "white",
              "width": 0.5
             },
             "pattern": {
              "fillmode": "overlay",
              "size": 10,
              "solidity": 0.2
             }
            },
            "type": "barpolar"
           }
          ],
          "carpet": [
           {
            "aaxis": {
             "endlinecolor": "#2a3f5f",
             "gridcolor": "#C8D4E3",
             "linecolor": "#C8D4E3",
             "minorgridcolor": "#C8D4E3",
             "startlinecolor": "#2a3f5f"
            },
            "baxis": {
             "endlinecolor": "#2a3f5f",
             "gridcolor": "#C8D4E3",
             "linecolor": "#C8D4E3",
             "minorgridcolor": "#C8D4E3",
             "startlinecolor": "#2a3f5f"
            },
            "type": "carpet"
           }
          ],
          "choropleth": [
           {
            "colorbar": {
             "outlinewidth": 0,
             "ticks": ""
            },
            "type": "choropleth"
           }
          ],
          "contour": [
           {
            "colorbar": {
             "outlinewidth": 0,
             "ticks": ""
            },
            "colorscale": [
             [
              0,
              "#0d0887"
             ],
             [
              0.1111111111111111,
              "#46039f"
             ],
             [
              0.2222222222222222,
              "#7201a8"
             ],
             [
              0.3333333333333333,
              "#9c179e"
             ],
             [
              0.4444444444444444,
              "#bd3786"
             ],
             [
              0.5555555555555556,
              "#d8576b"
             ],
             [
              0.6666666666666666,
              "#ed7953"
             ],
             [
              0.7777777777777778,
              "#fb9f3a"
             ],
             [
              0.8888888888888888,
              "#fdca26"
             ],
             [
              1,
              "#f0f921"
             ]
            ],
            "type": "contour"
           }
          ],
          "contourcarpet": [
           {
            "colorbar": {
             "outlinewidth": 0,
             "ticks": ""
            },
            "type": "contourcarpet"
           }
          ],
          "heatmap": [
           {
            "colorbar": {
             "outlinewidth": 0,
             "ticks": ""
            },
            "colorscale": [
             [
              0,
              "#0d0887"
             ],
             [
              0.1111111111111111,
              "#46039f"
             ],
             [
              0.2222222222222222,
              "#7201a8"
             ],
             [
              0.3333333333333333,
              "#9c179e"
             ],
             [
              0.4444444444444444,
              "#bd3786"
             ],
             [
              0.5555555555555556,
              "#d8576b"
             ],
             [
              0.6666666666666666,
              "#ed7953"
             ],
             [
              0.7777777777777778,
              "#fb9f3a"
             ],
             [
              0.8888888888888888,
              "#fdca26"
             ],
             [
              1,
              "#f0f921"
             ]
            ],
            "type": "heatmap"
           }
          ],
          "heatmapgl": [
           {
            "colorbar": {
             "outlinewidth": 0,
             "ticks": ""
            },
            "colorscale": [
             [
              0,
              "#0d0887"
             ],
             [
              0.1111111111111111,
              "#46039f"
             ],
             [
              0.2222222222222222,
              "#7201a8"
             ],
             [
              0.3333333333333333,
              "#9c179e"
             ],
             [
              0.4444444444444444,
              "#bd3786"
             ],
             [
              0.5555555555555556,
              "#d8576b"
             ],
             [
              0.6666666666666666,
              "#ed7953"
             ],
             [
              0.7777777777777778,
              "#fb9f3a"
             ],
             [
              0.8888888888888888,
              "#fdca26"
             ],
             [
              1,
              "#f0f921"
             ]
            ],
            "type": "heatmapgl"
           }
          ],
          "histogram": [
           {
            "marker": {
             "pattern": {
              "fillmode": "overlay",
              "size": 10,
              "solidity": 0.2
             }
            },
            "type": "histogram"
           }
          ],
          "histogram2d": [
           {
            "colorbar": {
             "outlinewidth": 0,
             "ticks": ""
            },
            "colorscale": [
             [
              0,
              "#0d0887"
             ],
             [
              0.1111111111111111,
              "#46039f"
             ],
             [
              0.2222222222222222,
              "#7201a8"
             ],
             [
              0.3333333333333333,
              "#9c179e"
             ],
             [
              0.4444444444444444,
              "#bd3786"
             ],
             [
              0.5555555555555556,
              "#d8576b"
             ],
             [
              0.6666666666666666,
              "#ed7953"
             ],
             [
              0.7777777777777778,
              "#fb9f3a"
             ],
             [
              0.8888888888888888,
              "#fdca26"
             ],
             [
              1,
              "#f0f921"
             ]
            ],
            "type": "histogram2d"
           }
          ],
          "histogram2dcontour": [
           {
            "colorbar": {
             "outlinewidth": 0,
             "ticks": ""
            },
            "colorscale": [
             [
              0,
              "#0d0887"
             ],
             [
              0.1111111111111111,
              "#46039f"
             ],
             [
              0.2222222222222222,
              "#7201a8"
             ],
             [
              0.3333333333333333,
              "#9c179e"
             ],
             [
              0.4444444444444444,
              "#bd3786"
             ],
             [
              0.5555555555555556,
              "#d8576b"
             ],
             [
              0.6666666666666666,
              "#ed7953"
             ],
             [
              0.7777777777777778,
              "#fb9f3a"
             ],
             [
              0.8888888888888888,
              "#fdca26"
             ],
             [
              1,
              "#f0f921"
             ]
            ],
            "type": "histogram2dcontour"
           }
          ],
          "mesh3d": [
           {
            "colorbar": {
             "outlinewidth": 0,
             "ticks": ""
            },
            "type": "mesh3d"
           }
          ],
          "parcoords": [
           {
            "line": {
             "colorbar": {
              "outlinewidth": 0,
              "ticks": ""
             }
            },
            "type": "parcoords"
           }
          ],
          "pie": [
           {
            "automargin": true,
            "type": "pie"
           }
          ],
          "scatter": [
           {
            "fillpattern": {
             "fillmode": "overlay",
             "size": 10,
             "solidity": 0.2
            },
            "type": "scatter"
           }
          ],
          "scatter3d": [
           {
            "line": {
             "colorbar": {
              "outlinewidth": 0,
              "ticks": ""
             }
            },
            "marker": {
             "colorbar": {
              "outlinewidth": 0,
              "ticks": ""
             }
            },
            "type": "scatter3d"
           }
          ],
          "scattercarpet": [
           {
            "marker": {
             "colorbar": {
              "outlinewidth": 0,
              "ticks": ""
             }
            },
            "type": "scattercarpet"
           }
          ],
          "scattergeo": [
           {
            "marker": {
             "colorbar": {
              "outlinewidth": 0,
              "ticks": ""
             }
            },
            "type": "scattergeo"
           }
          ],
          "scattergl": [
           {
            "marker": {
             "colorbar": {
              "outlinewidth": 0,
              "ticks": ""
             }
            },
            "type": "scattergl"
           }
          ],
          "scattermapbox": [
           {
            "marker": {
             "colorbar": {
              "outlinewidth": 0,
              "ticks": ""
             }
            },
            "type": "scattermapbox"
           }
          ],
          "scatterpolar": [
           {
            "marker": {
             "colorbar": {
              "outlinewidth": 0,
              "ticks": ""
             }
            },
            "type": "scatterpolar"
           }
          ],
          "scatterpolargl": [
           {
            "marker": {
             "colorbar": {
              "outlinewidth": 0,
              "ticks": ""
             }
            },
            "type": "scatterpolargl"
           }
          ],
          "scatterternary": [
           {
            "marker": {
             "colorbar": {
              "outlinewidth": 0,
              "ticks": ""
             }
            },
            "type": "scatterternary"
           }
          ],
          "surface": [
           {
            "colorbar": {
             "outlinewidth": 0,
             "ticks": ""
            },
            "colorscale": [
             [
              0,
              "#0d0887"
             ],
             [
              0.1111111111111111,
              "#46039f"
             ],
             [
              0.2222222222222222,
              "#7201a8"
             ],
             [
              0.3333333333333333,
              "#9c179e"
             ],
             [
              0.4444444444444444,
              "#bd3786"
             ],
             [
              0.5555555555555556,
              "#d8576b"
             ],
             [
              0.6666666666666666,
              "#ed7953"
             ],
             [
              0.7777777777777778,
              "#fb9f3a"
             ],
             [
              0.8888888888888888,
              "#fdca26"
             ],
             [
              1,
              "#f0f921"
             ]
            ],
            "type": "surface"
           }
          ],
          "table": [
           {
            "cells": {
             "fill": {
              "color": "#EBF0F8"
             },
             "line": {
              "color": "white"
             }
            },
            "header": {
             "fill": {
              "color": "#C8D4E3"
             },
             "line": {
              "color": "white"
             }
            },
            "type": "table"
           }
          ]
         },
         "layout": {
          "annotationdefaults": {
           "arrowcolor": "#2a3f5f",
           "arrowhead": 0,
           "arrowwidth": 1
          },
          "autotypenumbers": "strict",
          "coloraxis": {
           "colorbar": {
            "outlinewidth": 0,
            "ticks": ""
           }
          },
          "colorscale": {
           "diverging": [
            [
             0,
             "#8e0152"
            ],
            [
             0.1,
             "#c51b7d"
            ],
            [
             0.2,
             "#de77ae"
            ],
            [
             0.3,
             "#f1b6da"
            ],
            [
             0.4,
             "#fde0ef"
            ],
            [
             0.5,
             "#f7f7f7"
            ],
            [
             0.6,
             "#e6f5d0"
            ],
            [
             0.7,
             "#b8e186"
            ],
            [
             0.8,
             "#7fbc41"
            ],
            [
             0.9,
             "#4d9221"
            ],
            [
             1,
             "#276419"
            ]
           ],
           "sequential": [
            [
             0,
             "#0d0887"
            ],
            [
             0.1111111111111111,
             "#46039f"
            ],
            [
             0.2222222222222222,
             "#7201a8"
            ],
            [
             0.3333333333333333,
             "#9c179e"
            ],
            [
             0.4444444444444444,
             "#bd3786"
            ],
            [
             0.5555555555555556,
             "#d8576b"
            ],
            [
             0.6666666666666666,
             "#ed7953"
            ],
            [
             0.7777777777777778,
             "#fb9f3a"
            ],
            [
             0.8888888888888888,
             "#fdca26"
            ],
            [
             1,
             "#f0f921"
            ]
           ],
           "sequentialminus": [
            [
             0,
             "#0d0887"
            ],
            [
             0.1111111111111111,
             "#46039f"
            ],
            [
             0.2222222222222222,
             "#7201a8"
            ],
            [
             0.3333333333333333,
             "#9c179e"
            ],
            [
             0.4444444444444444,
             "#bd3786"
            ],
            [
             0.5555555555555556,
             "#d8576b"
            ],
            [
             0.6666666666666666,
             "#ed7953"
            ],
            [
             0.7777777777777778,
             "#fb9f3a"
            ],
            [
             0.8888888888888888,
             "#fdca26"
            ],
            [
             1,
             "#f0f921"
            ]
           ]
          },
          "colorway": [
           "#636efa",
           "#EF553B",
           "#00cc96",
           "#ab63fa",
           "#FFA15A",
           "#19d3f3",
           "#FF6692",
           "#B6E880",
           "#FF97FF",
           "#FECB52"
          ],
          "font": {
           "color": "#2a3f5f"
          },
          "geo": {
           "bgcolor": "white",
           "lakecolor": "white",
           "landcolor": "white",
           "showlakes": true,
           "showland": true,
           "subunitcolor": "#C8D4E3"
          },
          "hoverlabel": {
           "align": "left"
          },
          "hovermode": "closest",
          "mapbox": {
           "style": "light"
          },
          "paper_bgcolor": "white",
          "plot_bgcolor": "white",
          "polar": {
           "angularaxis": {
            "gridcolor": "#EBF0F8",
            "linecolor": "#EBF0F8",
            "ticks": ""
           },
           "bgcolor": "white",
           "radialaxis": {
            "gridcolor": "#EBF0F8",
            "linecolor": "#EBF0F8",
            "ticks": ""
           }
          },
          "scene": {
           "xaxis": {
            "backgroundcolor": "white",
            "gridcolor": "#DFE8F3",
            "gridwidth": 2,
            "linecolor": "#EBF0F8",
            "showbackground": true,
            "ticks": "",
            "zerolinecolor": "#EBF0F8"
           },
           "yaxis": {
            "backgroundcolor": "white",
            "gridcolor": "#DFE8F3",
            "gridwidth": 2,
            "linecolor": "#EBF0F8",
            "showbackground": true,
            "ticks": "",
            "zerolinecolor": "#EBF0F8"
           },
           "zaxis": {
            "backgroundcolor": "white",
            "gridcolor": "#DFE8F3",
            "gridwidth": 2,
            "linecolor": "#EBF0F8",
            "showbackground": true,
            "ticks": "",
            "zerolinecolor": "#EBF0F8"
           }
          },
          "shapedefaults": {
           "line": {
            "color": "#2a3f5f"
           }
          },
          "ternary": {
           "aaxis": {
            "gridcolor": "#DFE8F3",
            "linecolor": "#A2B1C6",
            "ticks": ""
           },
           "baxis": {
            "gridcolor": "#DFE8F3",
            "linecolor": "#A2B1C6",
            "ticks": ""
           },
           "bgcolor": "white",
           "caxis": {
            "gridcolor": "#DFE8F3",
            "linecolor": "#A2B1C6",
            "ticks": ""
           }
          },
          "title": {
           "x": 0.05
          },
          "xaxis": {
           "automargin": true,
           "gridcolor": "#EBF0F8",
           "linecolor": "#EBF0F8",
           "ticks": "",
           "title": {
            "standoff": 15
           },
           "zerolinecolor": "#EBF0F8",
           "zerolinewidth": 2
          },
          "yaxis": {
           "automargin": true,
           "gridcolor": "#EBF0F8",
           "linecolor": "#EBF0F8",
           "ticks": "",
           "title": {
            "standoff": 15
           },
           "zerolinecolor": "#EBF0F8",
           "zerolinewidth": 2
          }
         }
        },
        "title": {
         "font": {
          "size": 20
         },
         "text": "Distribution of Each Speaker's Lines Across Seasons"
        },
        "width": 1000,
        "xaxis": {
         "anchor": "y",
         "domain": [
          0,
          1
         ],
         "title": {
          "font": {
           "size": 16
          },
          "text": "Frequency of utterances (normalized)"
         }
        },
        "yaxis": {
         "anchor": "x",
         "domain": [
          0,
          1
         ],
         "title": {
          "font": {
           "size": 16
          },
          "text": "Speaker (Limited to Top 10 Speakers)"
         }
        }
       }
      }
     },
     "metadata": {},
     "output_type": "display_data"
    }
   ],
   "source": [
    "title = \"Distribution of Each Speaker's Lines Across Seasons\"\n",
    "hlabel = \"Frequency of utterances (normalized)\"\n",
    "vlabel = \"Speaker (Limited to Top 10 Speakers)\"\n",
    "legend_label = \"Season #\"\n",
    "\n",
    "template = 'plotly_white'\n",
    "colormap = px.colors.qualitative.Set1\n",
    "\n",
    "width = 1000; height = 500; margin = 110\n",
    "\n",
    "fig = top_10_groupedby_speaker.plot.barh(color_discrete_sequence=colormap)\n",
    "\n",
    "fig.update_layout(\n",
    "    template=template,\n",
    "    title=dict(text=title, font=dict(size=20)),\n",
    "    xaxis_title=dict(text=hlabel, font=dict(size=16)),\n",
    "    yaxis_title=dict(text=vlabel, font=dict(size=16)),\n",
    "    legend_title=dict(text=legend_label, font=dict(size=16)),\n",
    "    margin=dict(l=margin, r=margin, t=margin, b=margin),\n",
    "    width=width, \n",
    "    height=height,\n",
    "    font=dict(family='Open Sans, Arial', color='black')\n",
    ")\n",
    "\n",
    "fig.show()"
   ]
  },
  {
   "attachments": {},
   "cell_type": "markdown",
   "metadata": {},
   "source": [
    "# Preprocess"
   ]
  },
  {
   "cell_type": "code",
   "execution_count": null,
   "metadata": {},
   "outputs": [],
   "source": [
    "# todo"
   ]
  }
 ],
 "metadata": {
  "kernelspec": {
   "display_name": "ds_env",
   "language": "python",
   "name": "python3"
  },
  "language_info": {
   "codemirror_mode": {
    "name": "ipython",
    "version": 3
   },
   "file_extension": ".py",
   "mimetype": "text/x-python",
   "name": "python",
   "nbconvert_exporter": "python",
   "pygments_lexer": "ipython3",
   "version": "3.11.2"
  },
  "orig_nbformat": 4
 },
 "nbformat": 4,
 "nbformat_minor": 2
}
